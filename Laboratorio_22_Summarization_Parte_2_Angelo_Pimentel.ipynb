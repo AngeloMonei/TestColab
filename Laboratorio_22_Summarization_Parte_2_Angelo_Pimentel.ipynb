{
  "nbformat": 4,
  "nbformat_minor": 0,
  "metadata": {
    "accelerator": "GPU",
    "colab": {
      "provenance": []
    },
    "kernelspec": {
      "display_name": "Python 3",
      "name": "python3"
    },
    "widgets": {
      "application/vnd.jupyter.widget-state+json": {
        "714a2eaaa2dc4745a0c3a3bf5faf53b2": {
          "model_module": "@jupyter-widgets/controls",
          "model_name": "HBoxModel",
          "model_module_version": "1.5.0",
          "state": {
            "_dom_classes": [],
            "_model_module": "@jupyter-widgets/controls",
            "_model_module_version": "1.5.0",
            "_model_name": "HBoxModel",
            "_view_count": null,
            "_view_module": "@jupyter-widgets/controls",
            "_view_module_version": "1.5.0",
            "_view_name": "HBoxView",
            "box_style": "",
            "children": [
              "IPY_MODEL_4ecca3b831644c88a9d504116a9471ad",
              "IPY_MODEL_ba0fdd4a31874488a2e9f83d37b7ff7c",
              "IPY_MODEL_cacee24f335c4e3886c4a8285f49df43"
            ],
            "layout": "IPY_MODEL_8e18cbb982e94eafac32bcc9334db52e"
          }
        },
        "4ecca3b831644c88a9d504116a9471ad": {
          "model_module": "@jupyter-widgets/controls",
          "model_name": "HTMLModel",
          "model_module_version": "1.5.0",
          "state": {
            "_dom_classes": [],
            "_model_module": "@jupyter-widgets/controls",
            "_model_module_version": "1.5.0",
            "_model_name": "HTMLModel",
            "_view_count": null,
            "_view_module": "@jupyter-widgets/controls",
            "_view_module_version": "1.5.0",
            "_view_name": "HTMLView",
            "description": "",
            "description_tooltip": null,
            "layout": "IPY_MODEL_c7482ed0fd8f4a6291744287ab142161",
            "placeholder": "​",
            "style": "IPY_MODEL_b28f425999604312bd646f577f6423c2",
            "value": "config.json: 100%"
          }
        },
        "ba0fdd4a31874488a2e9f83d37b7ff7c": {
          "model_module": "@jupyter-widgets/controls",
          "model_name": "FloatProgressModel",
          "model_module_version": "1.5.0",
          "state": {
            "_dom_classes": [],
            "_model_module": "@jupyter-widgets/controls",
            "_model_module_version": "1.5.0",
            "_model_name": "FloatProgressModel",
            "_view_count": null,
            "_view_module": "@jupyter-widgets/controls",
            "_view_module_version": "1.5.0",
            "_view_name": "ProgressView",
            "bar_style": "success",
            "description": "",
            "description_tooltip": null,
            "layout": "IPY_MODEL_f5c8e781757f420785cc28af2ffbbcc0",
            "max": 1206,
            "min": 0,
            "orientation": "horizontal",
            "style": "IPY_MODEL_340c5155fa1a4215a195e712d18f246b",
            "value": 1206
          }
        },
        "cacee24f335c4e3886c4a8285f49df43": {
          "model_module": "@jupyter-widgets/controls",
          "model_name": "HTMLModel",
          "model_module_version": "1.5.0",
          "state": {
            "_dom_classes": [],
            "_model_module": "@jupyter-widgets/controls",
            "_model_module_version": "1.5.0",
            "_model_name": "HTMLModel",
            "_view_count": null,
            "_view_module": "@jupyter-widgets/controls",
            "_view_module_version": "1.5.0",
            "_view_name": "HTMLView",
            "description": "",
            "description_tooltip": null,
            "layout": "IPY_MODEL_0f9969a939594463942920ebc5c0c4f8",
            "placeholder": "​",
            "style": "IPY_MODEL_0024b9417a254f29adeb88d4de2b4085",
            "value": " 1.21k/1.21k [00:00&lt;00:00, 85.6kB/s]"
          }
        },
        "8e18cbb982e94eafac32bcc9334db52e": {
          "model_module": "@jupyter-widgets/base",
          "model_name": "LayoutModel",
          "model_module_version": "1.2.0",
          "state": {
            "_model_module": "@jupyter-widgets/base",
            "_model_module_version": "1.2.0",
            "_model_name": "LayoutModel",
            "_view_count": null,
            "_view_module": "@jupyter-widgets/base",
            "_view_module_version": "1.2.0",
            "_view_name": "LayoutView",
            "align_content": null,
            "align_items": null,
            "align_self": null,
            "border": null,
            "bottom": null,
            "display": null,
            "flex": null,
            "flex_flow": null,
            "grid_area": null,
            "grid_auto_columns": null,
            "grid_auto_flow": null,
            "grid_auto_rows": null,
            "grid_column": null,
            "grid_gap": null,
            "grid_row": null,
            "grid_template_areas": null,
            "grid_template_columns": null,
            "grid_template_rows": null,
            "height": null,
            "justify_content": null,
            "justify_items": null,
            "left": null,
            "margin": null,
            "max_height": null,
            "max_width": null,
            "min_height": null,
            "min_width": null,
            "object_fit": null,
            "object_position": null,
            "order": null,
            "overflow": null,
            "overflow_x": null,
            "overflow_y": null,
            "padding": null,
            "right": null,
            "top": null,
            "visibility": null,
            "width": null
          }
        },
        "c7482ed0fd8f4a6291744287ab142161": {
          "model_module": "@jupyter-widgets/base",
          "model_name": "LayoutModel",
          "model_module_version": "1.2.0",
          "state": {
            "_model_module": "@jupyter-widgets/base",
            "_model_module_version": "1.2.0",
            "_model_name": "LayoutModel",
            "_view_count": null,
            "_view_module": "@jupyter-widgets/base",
            "_view_module_version": "1.2.0",
            "_view_name": "LayoutView",
            "align_content": null,
            "align_items": null,
            "align_self": null,
            "border": null,
            "bottom": null,
            "display": null,
            "flex": null,
            "flex_flow": null,
            "grid_area": null,
            "grid_auto_columns": null,
            "grid_auto_flow": null,
            "grid_auto_rows": null,
            "grid_column": null,
            "grid_gap": null,
            "grid_row": null,
            "grid_template_areas": null,
            "grid_template_columns": null,
            "grid_template_rows": null,
            "height": null,
            "justify_content": null,
            "justify_items": null,
            "left": null,
            "margin": null,
            "max_height": null,
            "max_width": null,
            "min_height": null,
            "min_width": null,
            "object_fit": null,
            "object_position": null,
            "order": null,
            "overflow": null,
            "overflow_x": null,
            "overflow_y": null,
            "padding": null,
            "right": null,
            "top": null,
            "visibility": null,
            "width": null
          }
        },
        "b28f425999604312bd646f577f6423c2": {
          "model_module": "@jupyter-widgets/controls",
          "model_name": "DescriptionStyleModel",
          "model_module_version": "1.5.0",
          "state": {
            "_model_module": "@jupyter-widgets/controls",
            "_model_module_version": "1.5.0",
            "_model_name": "DescriptionStyleModel",
            "_view_count": null,
            "_view_module": "@jupyter-widgets/base",
            "_view_module_version": "1.2.0",
            "_view_name": "StyleView",
            "description_width": ""
          }
        },
        "f5c8e781757f420785cc28af2ffbbcc0": {
          "model_module": "@jupyter-widgets/base",
          "model_name": "LayoutModel",
          "model_module_version": "1.2.0",
          "state": {
            "_model_module": "@jupyter-widgets/base",
            "_model_module_version": "1.2.0",
            "_model_name": "LayoutModel",
            "_view_count": null,
            "_view_module": "@jupyter-widgets/base",
            "_view_module_version": "1.2.0",
            "_view_name": "LayoutView",
            "align_content": null,
            "align_items": null,
            "align_self": null,
            "border": null,
            "bottom": null,
            "display": null,
            "flex": null,
            "flex_flow": null,
            "grid_area": null,
            "grid_auto_columns": null,
            "grid_auto_flow": null,
            "grid_auto_rows": null,
            "grid_column": null,
            "grid_gap": null,
            "grid_row": null,
            "grid_template_areas": null,
            "grid_template_columns": null,
            "grid_template_rows": null,
            "height": null,
            "justify_content": null,
            "justify_items": null,
            "left": null,
            "margin": null,
            "max_height": null,
            "max_width": null,
            "min_height": null,
            "min_width": null,
            "object_fit": null,
            "object_position": null,
            "order": null,
            "overflow": null,
            "overflow_x": null,
            "overflow_y": null,
            "padding": null,
            "right": null,
            "top": null,
            "visibility": null,
            "width": null
          }
        },
        "340c5155fa1a4215a195e712d18f246b": {
          "model_module": "@jupyter-widgets/controls",
          "model_name": "ProgressStyleModel",
          "model_module_version": "1.5.0",
          "state": {
            "_model_module": "@jupyter-widgets/controls",
            "_model_module_version": "1.5.0",
            "_model_name": "ProgressStyleModel",
            "_view_count": null,
            "_view_module": "@jupyter-widgets/base",
            "_view_module_version": "1.2.0",
            "_view_name": "StyleView",
            "bar_color": null,
            "description_width": ""
          }
        },
        "0f9969a939594463942920ebc5c0c4f8": {
          "model_module": "@jupyter-widgets/base",
          "model_name": "LayoutModel",
          "model_module_version": "1.2.0",
          "state": {
            "_model_module": "@jupyter-widgets/base",
            "_model_module_version": "1.2.0",
            "_model_name": "LayoutModel",
            "_view_count": null,
            "_view_module": "@jupyter-widgets/base",
            "_view_module_version": "1.2.0",
            "_view_name": "LayoutView",
            "align_content": null,
            "align_items": null,
            "align_self": null,
            "border": null,
            "bottom": null,
            "display": null,
            "flex": null,
            "flex_flow": null,
            "grid_area": null,
            "grid_auto_columns": null,
            "grid_auto_flow": null,
            "grid_auto_rows": null,
            "grid_column": null,
            "grid_gap": null,
            "grid_row": null,
            "grid_template_areas": null,
            "grid_template_columns": null,
            "grid_template_rows": null,
            "height": null,
            "justify_content": null,
            "justify_items": null,
            "left": null,
            "margin": null,
            "max_height": null,
            "max_width": null,
            "min_height": null,
            "min_width": null,
            "object_fit": null,
            "object_position": null,
            "order": null,
            "overflow": null,
            "overflow_x": null,
            "overflow_y": null,
            "padding": null,
            "right": null,
            "top": null,
            "visibility": null,
            "width": null
          }
        },
        "0024b9417a254f29adeb88d4de2b4085": {
          "model_module": "@jupyter-widgets/controls",
          "model_name": "DescriptionStyleModel",
          "model_module_version": "1.5.0",
          "state": {
            "_model_module": "@jupyter-widgets/controls",
            "_model_module_version": "1.5.0",
            "_model_name": "DescriptionStyleModel",
            "_view_count": null,
            "_view_module": "@jupyter-widgets/base",
            "_view_module_version": "1.2.0",
            "_view_name": "StyleView",
            "description_width": ""
          }
        },
        "15d20a073404499baa54da9c770f2ceb": {
          "model_module": "@jupyter-widgets/controls",
          "model_name": "HBoxModel",
          "model_module_version": "1.5.0",
          "state": {
            "_dom_classes": [],
            "_model_module": "@jupyter-widgets/controls",
            "_model_module_version": "1.5.0",
            "_model_name": "HBoxModel",
            "_view_count": null,
            "_view_module": "@jupyter-widgets/controls",
            "_view_module_version": "1.5.0",
            "_view_name": "HBoxView",
            "box_style": "",
            "children": [
              "IPY_MODEL_5b0fc6347926444991c082edadbf7f30",
              "IPY_MODEL_e22d48e8f2364548b46b52b77ee2f7b9",
              "IPY_MODEL_a5ff5fab681c49a19447acb7d6182231"
            ],
            "layout": "IPY_MODEL_46e5f215d075472e82115160d8200556"
          }
        },
        "5b0fc6347926444991c082edadbf7f30": {
          "model_module": "@jupyter-widgets/controls",
          "model_name": "HTMLModel",
          "model_module_version": "1.5.0",
          "state": {
            "_dom_classes": [],
            "_model_module": "@jupyter-widgets/controls",
            "_model_module_version": "1.5.0",
            "_model_name": "HTMLModel",
            "_view_count": null,
            "_view_module": "@jupyter-widgets/controls",
            "_view_module_version": "1.5.0",
            "_view_name": "HTMLView",
            "description": "",
            "description_tooltip": null,
            "layout": "IPY_MODEL_4d8ec6ff3575487fa9d1e7c3e5b532dc",
            "placeholder": "​",
            "style": "IPY_MODEL_2497afee7dda4b78a343443a9650e086",
            "value": "model.safetensors: 100%"
          }
        },
        "e22d48e8f2364548b46b52b77ee2f7b9": {
          "model_module": "@jupyter-widgets/controls",
          "model_name": "FloatProgressModel",
          "model_module_version": "1.5.0",
          "state": {
            "_dom_classes": [],
            "_model_module": "@jupyter-widgets/controls",
            "_model_module_version": "1.5.0",
            "_model_name": "FloatProgressModel",
            "_view_count": null,
            "_view_module": "@jupyter-widgets/controls",
            "_view_module_version": "1.5.0",
            "_view_name": "ProgressView",
            "bar_style": "success",
            "description": "",
            "description_tooltip": null,
            "layout": "IPY_MODEL_fae945cc1ec7473281af2a1fb76054c9",
            "max": 242043056,
            "min": 0,
            "orientation": "horizontal",
            "style": "IPY_MODEL_97e5f61cc1574f6fb2f4adf31b854a15",
            "value": 242043056
          }
        },
        "a5ff5fab681c49a19447acb7d6182231": {
          "model_module": "@jupyter-widgets/controls",
          "model_name": "HTMLModel",
          "model_module_version": "1.5.0",
          "state": {
            "_dom_classes": [],
            "_model_module": "@jupyter-widgets/controls",
            "_model_module_version": "1.5.0",
            "_model_name": "HTMLModel",
            "_view_count": null,
            "_view_module": "@jupyter-widgets/controls",
            "_view_module_version": "1.5.0",
            "_view_name": "HTMLView",
            "description": "",
            "description_tooltip": null,
            "layout": "IPY_MODEL_a5e0c98156254ac582f797cbd73deb3e",
            "placeholder": "​",
            "style": "IPY_MODEL_b2e430c5d74e4859a0b8d9071b284850",
            "value": " 242M/242M [00:02&lt;00:00, 110MB/s]"
          }
        },
        "46e5f215d075472e82115160d8200556": {
          "model_module": "@jupyter-widgets/base",
          "model_name": "LayoutModel",
          "model_module_version": "1.2.0",
          "state": {
            "_model_module": "@jupyter-widgets/base",
            "_model_module_version": "1.2.0",
            "_model_name": "LayoutModel",
            "_view_count": null,
            "_view_module": "@jupyter-widgets/base",
            "_view_module_version": "1.2.0",
            "_view_name": "LayoutView",
            "align_content": null,
            "align_items": null,
            "align_self": null,
            "border": null,
            "bottom": null,
            "display": null,
            "flex": null,
            "flex_flow": null,
            "grid_area": null,
            "grid_auto_columns": null,
            "grid_auto_flow": null,
            "grid_auto_rows": null,
            "grid_column": null,
            "grid_gap": null,
            "grid_row": null,
            "grid_template_areas": null,
            "grid_template_columns": null,
            "grid_template_rows": null,
            "height": null,
            "justify_content": null,
            "justify_items": null,
            "left": null,
            "margin": null,
            "max_height": null,
            "max_width": null,
            "min_height": null,
            "min_width": null,
            "object_fit": null,
            "object_position": null,
            "order": null,
            "overflow": null,
            "overflow_x": null,
            "overflow_y": null,
            "padding": null,
            "right": null,
            "top": null,
            "visibility": null,
            "width": null
          }
        },
        "4d8ec6ff3575487fa9d1e7c3e5b532dc": {
          "model_module": "@jupyter-widgets/base",
          "model_name": "LayoutModel",
          "model_module_version": "1.2.0",
          "state": {
            "_model_module": "@jupyter-widgets/base",
            "_model_module_version": "1.2.0",
            "_model_name": "LayoutModel",
            "_view_count": null,
            "_view_module": "@jupyter-widgets/base",
            "_view_module_version": "1.2.0",
            "_view_name": "LayoutView",
            "align_content": null,
            "align_items": null,
            "align_self": null,
            "border": null,
            "bottom": null,
            "display": null,
            "flex": null,
            "flex_flow": null,
            "grid_area": null,
            "grid_auto_columns": null,
            "grid_auto_flow": null,
            "grid_auto_rows": null,
            "grid_column": null,
            "grid_gap": null,
            "grid_row": null,
            "grid_template_areas": null,
            "grid_template_columns": null,
            "grid_template_rows": null,
            "height": null,
            "justify_content": null,
            "justify_items": null,
            "left": null,
            "margin": null,
            "max_height": null,
            "max_width": null,
            "min_height": null,
            "min_width": null,
            "object_fit": null,
            "object_position": null,
            "order": null,
            "overflow": null,
            "overflow_x": null,
            "overflow_y": null,
            "padding": null,
            "right": null,
            "top": null,
            "visibility": null,
            "width": null
          }
        },
        "2497afee7dda4b78a343443a9650e086": {
          "model_module": "@jupyter-widgets/controls",
          "model_name": "DescriptionStyleModel",
          "model_module_version": "1.5.0",
          "state": {
            "_model_module": "@jupyter-widgets/controls",
            "_model_module_version": "1.5.0",
            "_model_name": "DescriptionStyleModel",
            "_view_count": null,
            "_view_module": "@jupyter-widgets/base",
            "_view_module_version": "1.2.0",
            "_view_name": "StyleView",
            "description_width": ""
          }
        },
        "fae945cc1ec7473281af2a1fb76054c9": {
          "model_module": "@jupyter-widgets/base",
          "model_name": "LayoutModel",
          "model_module_version": "1.2.0",
          "state": {
            "_model_module": "@jupyter-widgets/base",
            "_model_module_version": "1.2.0",
            "_model_name": "LayoutModel",
            "_view_count": null,
            "_view_module": "@jupyter-widgets/base",
            "_view_module_version": "1.2.0",
            "_view_name": "LayoutView",
            "align_content": null,
            "align_items": null,
            "align_self": null,
            "border": null,
            "bottom": null,
            "display": null,
            "flex": null,
            "flex_flow": null,
            "grid_area": null,
            "grid_auto_columns": null,
            "grid_auto_flow": null,
            "grid_auto_rows": null,
            "grid_column": null,
            "grid_gap": null,
            "grid_row": null,
            "grid_template_areas": null,
            "grid_template_columns": null,
            "grid_template_rows": null,
            "height": null,
            "justify_content": null,
            "justify_items": null,
            "left": null,
            "margin": null,
            "max_height": null,
            "max_width": null,
            "min_height": null,
            "min_width": null,
            "object_fit": null,
            "object_position": null,
            "order": null,
            "overflow": null,
            "overflow_x": null,
            "overflow_y": null,
            "padding": null,
            "right": null,
            "top": null,
            "visibility": null,
            "width": null
          }
        },
        "97e5f61cc1574f6fb2f4adf31b854a15": {
          "model_module": "@jupyter-widgets/controls",
          "model_name": "ProgressStyleModel",
          "model_module_version": "1.5.0",
          "state": {
            "_model_module": "@jupyter-widgets/controls",
            "_model_module_version": "1.5.0",
            "_model_name": "ProgressStyleModel",
            "_view_count": null,
            "_view_module": "@jupyter-widgets/base",
            "_view_module_version": "1.2.0",
            "_view_name": "StyleView",
            "bar_color": null,
            "description_width": ""
          }
        },
        "a5e0c98156254ac582f797cbd73deb3e": {
          "model_module": "@jupyter-widgets/base",
          "model_name": "LayoutModel",
          "model_module_version": "1.2.0",
          "state": {
            "_model_module": "@jupyter-widgets/base",
            "_model_module_version": "1.2.0",
            "_model_name": "LayoutModel",
            "_view_count": null,
            "_view_module": "@jupyter-widgets/base",
            "_view_module_version": "1.2.0",
            "_view_name": "LayoutView",
            "align_content": null,
            "align_items": null,
            "align_self": null,
            "border": null,
            "bottom": null,
            "display": null,
            "flex": null,
            "flex_flow": null,
            "grid_area": null,
            "grid_auto_columns": null,
            "grid_auto_flow": null,
            "grid_auto_rows": null,
            "grid_column": null,
            "grid_gap": null,
            "grid_row": null,
            "grid_template_areas": null,
            "grid_template_columns": null,
            "grid_template_rows": null,
            "height": null,
            "justify_content": null,
            "justify_items": null,
            "left": null,
            "margin": null,
            "max_height": null,
            "max_width": null,
            "min_height": null,
            "min_width": null,
            "object_fit": null,
            "object_position": null,
            "order": null,
            "overflow": null,
            "overflow_x": null,
            "overflow_y": null,
            "padding": null,
            "right": null,
            "top": null,
            "visibility": null,
            "width": null
          }
        },
        "b2e430c5d74e4859a0b8d9071b284850": {
          "model_module": "@jupyter-widgets/controls",
          "model_name": "DescriptionStyleModel",
          "model_module_version": "1.5.0",
          "state": {
            "_model_module": "@jupyter-widgets/controls",
            "_model_module_version": "1.5.0",
            "_model_name": "DescriptionStyleModel",
            "_view_count": null,
            "_view_module": "@jupyter-widgets/base",
            "_view_module_version": "1.2.0",
            "_view_name": "StyleView",
            "description_width": ""
          }
        },
        "fb200015c1804ae8b426929f53ee657a": {
          "model_module": "@jupyter-widgets/controls",
          "model_name": "HBoxModel",
          "model_module_version": "1.5.0",
          "state": {
            "_dom_classes": [],
            "_model_module": "@jupyter-widgets/controls",
            "_model_module_version": "1.5.0",
            "_model_name": "HBoxModel",
            "_view_count": null,
            "_view_module": "@jupyter-widgets/controls",
            "_view_module_version": "1.5.0",
            "_view_name": "HBoxView",
            "box_style": "",
            "children": [
              "IPY_MODEL_791fe4a2c20b4c05aa62407b7da3649b",
              "IPY_MODEL_bda541dfb53741e5a877a34707ed5152",
              "IPY_MODEL_3af324bc5422447d85a4a0c6308da823"
            ],
            "layout": "IPY_MODEL_8f14dbe0abf64b068f6ca9e0b86b0851"
          }
        },
        "791fe4a2c20b4c05aa62407b7da3649b": {
          "model_module": "@jupyter-widgets/controls",
          "model_name": "HTMLModel",
          "model_module_version": "1.5.0",
          "state": {
            "_dom_classes": [],
            "_model_module": "@jupyter-widgets/controls",
            "_model_module_version": "1.5.0",
            "_model_name": "HTMLModel",
            "_view_count": null,
            "_view_module": "@jupyter-widgets/controls",
            "_view_module_version": "1.5.0",
            "_view_name": "HTMLView",
            "description": "",
            "description_tooltip": null,
            "layout": "IPY_MODEL_dfb585b9805145059dd1719e9b86d323",
            "placeholder": "​",
            "style": "IPY_MODEL_6fc92c44d9e746bb9096faed22c39eaa",
            "value": "generation_config.json: 100%"
          }
        },
        "bda541dfb53741e5a877a34707ed5152": {
          "model_module": "@jupyter-widgets/controls",
          "model_name": "FloatProgressModel",
          "model_module_version": "1.5.0",
          "state": {
            "_dom_classes": [],
            "_model_module": "@jupyter-widgets/controls",
            "_model_module_version": "1.5.0",
            "_model_name": "FloatProgressModel",
            "_view_count": null,
            "_view_module": "@jupyter-widgets/controls",
            "_view_module_version": "1.5.0",
            "_view_name": "ProgressView",
            "bar_style": "success",
            "description": "",
            "description_tooltip": null,
            "layout": "IPY_MODEL_7a194d78b0b14891a40df11584c33008",
            "max": 147,
            "min": 0,
            "orientation": "horizontal",
            "style": "IPY_MODEL_6e0ccf77bf2a44309022d9fe93af3a9f",
            "value": 147
          }
        },
        "3af324bc5422447d85a4a0c6308da823": {
          "model_module": "@jupyter-widgets/controls",
          "model_name": "HTMLModel",
          "model_module_version": "1.5.0",
          "state": {
            "_dom_classes": [],
            "_model_module": "@jupyter-widgets/controls",
            "_model_module_version": "1.5.0",
            "_model_name": "HTMLModel",
            "_view_count": null,
            "_view_module": "@jupyter-widgets/controls",
            "_view_module_version": "1.5.0",
            "_view_name": "HTMLView",
            "description": "",
            "description_tooltip": null,
            "layout": "IPY_MODEL_9b312b9c31984291be43fdfa6689dcb5",
            "placeholder": "​",
            "style": "IPY_MODEL_b10019ceca7f4c428612b17680cc05cd",
            "value": " 147/147 [00:00&lt;00:00, 4.88kB/s]"
          }
        },
        "8f14dbe0abf64b068f6ca9e0b86b0851": {
          "model_module": "@jupyter-widgets/base",
          "model_name": "LayoutModel",
          "model_module_version": "1.2.0",
          "state": {
            "_model_module": "@jupyter-widgets/base",
            "_model_module_version": "1.2.0",
            "_model_name": "LayoutModel",
            "_view_count": null,
            "_view_module": "@jupyter-widgets/base",
            "_view_module_version": "1.2.0",
            "_view_name": "LayoutView",
            "align_content": null,
            "align_items": null,
            "align_self": null,
            "border": null,
            "bottom": null,
            "display": null,
            "flex": null,
            "flex_flow": null,
            "grid_area": null,
            "grid_auto_columns": null,
            "grid_auto_flow": null,
            "grid_auto_rows": null,
            "grid_column": null,
            "grid_gap": null,
            "grid_row": null,
            "grid_template_areas": null,
            "grid_template_columns": null,
            "grid_template_rows": null,
            "height": null,
            "justify_content": null,
            "justify_items": null,
            "left": null,
            "margin": null,
            "max_height": null,
            "max_width": null,
            "min_height": null,
            "min_width": null,
            "object_fit": null,
            "object_position": null,
            "order": null,
            "overflow": null,
            "overflow_x": null,
            "overflow_y": null,
            "padding": null,
            "right": null,
            "top": null,
            "visibility": null,
            "width": null
          }
        },
        "dfb585b9805145059dd1719e9b86d323": {
          "model_module": "@jupyter-widgets/base",
          "model_name": "LayoutModel",
          "model_module_version": "1.2.0",
          "state": {
            "_model_module": "@jupyter-widgets/base",
            "_model_module_version": "1.2.0",
            "_model_name": "LayoutModel",
            "_view_count": null,
            "_view_module": "@jupyter-widgets/base",
            "_view_module_version": "1.2.0",
            "_view_name": "LayoutView",
            "align_content": null,
            "align_items": null,
            "align_self": null,
            "border": null,
            "bottom": null,
            "display": null,
            "flex": null,
            "flex_flow": null,
            "grid_area": null,
            "grid_auto_columns": null,
            "grid_auto_flow": null,
            "grid_auto_rows": null,
            "grid_column": null,
            "grid_gap": null,
            "grid_row": null,
            "grid_template_areas": null,
            "grid_template_columns": null,
            "grid_template_rows": null,
            "height": null,
            "justify_content": null,
            "justify_items": null,
            "left": null,
            "margin": null,
            "max_height": null,
            "max_width": null,
            "min_height": null,
            "min_width": null,
            "object_fit": null,
            "object_position": null,
            "order": null,
            "overflow": null,
            "overflow_x": null,
            "overflow_y": null,
            "padding": null,
            "right": null,
            "top": null,
            "visibility": null,
            "width": null
          }
        },
        "6fc92c44d9e746bb9096faed22c39eaa": {
          "model_module": "@jupyter-widgets/controls",
          "model_name": "DescriptionStyleModel",
          "model_module_version": "1.5.0",
          "state": {
            "_model_module": "@jupyter-widgets/controls",
            "_model_module_version": "1.5.0",
            "_model_name": "DescriptionStyleModel",
            "_view_count": null,
            "_view_module": "@jupyter-widgets/base",
            "_view_module_version": "1.2.0",
            "_view_name": "StyleView",
            "description_width": ""
          }
        },
        "7a194d78b0b14891a40df11584c33008": {
          "model_module": "@jupyter-widgets/base",
          "model_name": "LayoutModel",
          "model_module_version": "1.2.0",
          "state": {
            "_model_module": "@jupyter-widgets/base",
            "_model_module_version": "1.2.0",
            "_model_name": "LayoutModel",
            "_view_count": null,
            "_view_module": "@jupyter-widgets/base",
            "_view_module_version": "1.2.0",
            "_view_name": "LayoutView",
            "align_content": null,
            "align_items": null,
            "align_self": null,
            "border": null,
            "bottom": null,
            "display": null,
            "flex": null,
            "flex_flow": null,
            "grid_area": null,
            "grid_auto_columns": null,
            "grid_auto_flow": null,
            "grid_auto_rows": null,
            "grid_column": null,
            "grid_gap": null,
            "grid_row": null,
            "grid_template_areas": null,
            "grid_template_columns": null,
            "grid_template_rows": null,
            "height": null,
            "justify_content": null,
            "justify_items": null,
            "left": null,
            "margin": null,
            "max_height": null,
            "max_width": null,
            "min_height": null,
            "min_width": null,
            "object_fit": null,
            "object_position": null,
            "order": null,
            "overflow": null,
            "overflow_x": null,
            "overflow_y": null,
            "padding": null,
            "right": null,
            "top": null,
            "visibility": null,
            "width": null
          }
        },
        "6e0ccf77bf2a44309022d9fe93af3a9f": {
          "model_module": "@jupyter-widgets/controls",
          "model_name": "ProgressStyleModel",
          "model_module_version": "1.5.0",
          "state": {
            "_model_module": "@jupyter-widgets/controls",
            "_model_module_version": "1.5.0",
            "_model_name": "ProgressStyleModel",
            "_view_count": null,
            "_view_module": "@jupyter-widgets/base",
            "_view_module_version": "1.2.0",
            "_view_name": "StyleView",
            "bar_color": null,
            "description_width": ""
          }
        },
        "9b312b9c31984291be43fdfa6689dcb5": {
          "model_module": "@jupyter-widgets/base",
          "model_name": "LayoutModel",
          "model_module_version": "1.2.0",
          "state": {
            "_model_module": "@jupyter-widgets/base",
            "_model_module_version": "1.2.0",
            "_model_name": "LayoutModel",
            "_view_count": null,
            "_view_module": "@jupyter-widgets/base",
            "_view_module_version": "1.2.0",
            "_view_name": "LayoutView",
            "align_content": null,
            "align_items": null,
            "align_self": null,
            "border": null,
            "bottom": null,
            "display": null,
            "flex": null,
            "flex_flow": null,
            "grid_area": null,
            "grid_auto_columns": null,
            "grid_auto_flow": null,
            "grid_auto_rows": null,
            "grid_column": null,
            "grid_gap": null,
            "grid_row": null,
            "grid_template_areas": null,
            "grid_template_columns": null,
            "grid_template_rows": null,
            "height": null,
            "justify_content": null,
            "justify_items": null,
            "left": null,
            "margin": null,
            "max_height": null,
            "max_width": null,
            "min_height": null,
            "min_width": null,
            "object_fit": null,
            "object_position": null,
            "order": null,
            "overflow": null,
            "overflow_x": null,
            "overflow_y": null,
            "padding": null,
            "right": null,
            "top": null,
            "visibility": null,
            "width": null
          }
        },
        "b10019ceca7f4c428612b17680cc05cd": {
          "model_module": "@jupyter-widgets/controls",
          "model_name": "DescriptionStyleModel",
          "model_module_version": "1.5.0",
          "state": {
            "_model_module": "@jupyter-widgets/controls",
            "_model_module_version": "1.5.0",
            "_model_name": "DescriptionStyleModel",
            "_view_count": null,
            "_view_module": "@jupyter-widgets/base",
            "_view_module_version": "1.2.0",
            "_view_name": "StyleView",
            "description_width": ""
          }
        },
        "35321d7cce9645e2a6417c2e5889bfc8": {
          "model_module": "@jupyter-widgets/controls",
          "model_name": "HBoxModel",
          "model_module_version": "1.5.0",
          "state": {
            "_dom_classes": [],
            "_model_module": "@jupyter-widgets/controls",
            "_model_module_version": "1.5.0",
            "_model_name": "HBoxModel",
            "_view_count": null,
            "_view_module": "@jupyter-widgets/controls",
            "_view_module_version": "1.5.0",
            "_view_name": "HBoxView",
            "box_style": "",
            "children": [
              "IPY_MODEL_0d7228d7d36148e89811ab8c07a3385f",
              "IPY_MODEL_e42dba620d5c4d769d4d0b4a0efce15b",
              "IPY_MODEL_b17c036a09354e57b5d6aecd11c4c557"
            ],
            "layout": "IPY_MODEL_e178ee3861304988af3c03bc057f1fd4"
          }
        },
        "0d7228d7d36148e89811ab8c07a3385f": {
          "model_module": "@jupyter-widgets/controls",
          "model_name": "HTMLModel",
          "model_module_version": "1.5.0",
          "state": {
            "_dom_classes": [],
            "_model_module": "@jupyter-widgets/controls",
            "_model_module_version": "1.5.0",
            "_model_name": "HTMLModel",
            "_view_count": null,
            "_view_module": "@jupyter-widgets/controls",
            "_view_module_version": "1.5.0",
            "_view_name": "HTMLView",
            "description": "",
            "description_tooltip": null,
            "layout": "IPY_MODEL_9954587a9ee44acea1519d1a0d278d45",
            "placeholder": "​",
            "style": "IPY_MODEL_a6e2ad1c31e1490aa7d5b5b50182ab03",
            "value": "tokenizer_config.json: 100%"
          }
        },
        "e42dba620d5c4d769d4d0b4a0efce15b": {
          "model_module": "@jupyter-widgets/controls",
          "model_name": "FloatProgressModel",
          "model_module_version": "1.5.0",
          "state": {
            "_dom_classes": [],
            "_model_module": "@jupyter-widgets/controls",
            "_model_module_version": "1.5.0",
            "_model_name": "FloatProgressModel",
            "_view_count": null,
            "_view_module": "@jupyter-widgets/controls",
            "_view_module_version": "1.5.0",
            "_view_name": "ProgressView",
            "bar_style": "success",
            "description": "",
            "description_tooltip": null,
            "layout": "IPY_MODEL_5f70f15bed104e7cb1132d89482459a6",
            "max": 2324,
            "min": 0,
            "orientation": "horizontal",
            "style": "IPY_MODEL_3352d9fb34db440fbd66588da37c2abe",
            "value": 2324
          }
        },
        "b17c036a09354e57b5d6aecd11c4c557": {
          "model_module": "@jupyter-widgets/controls",
          "model_name": "HTMLModel",
          "model_module_version": "1.5.0",
          "state": {
            "_dom_classes": [],
            "_model_module": "@jupyter-widgets/controls",
            "_model_module_version": "1.5.0",
            "_model_name": "HTMLModel",
            "_view_count": null,
            "_view_module": "@jupyter-widgets/controls",
            "_view_module_version": "1.5.0",
            "_view_name": "HTMLView",
            "description": "",
            "description_tooltip": null,
            "layout": "IPY_MODEL_b3c93e64dfed401d850ce7b4dfc48529",
            "placeholder": "​",
            "style": "IPY_MODEL_821a6a7204c048c1a30101969063f90e",
            "value": " 2.32k/2.32k [00:00&lt;00:00, 64.7kB/s]"
          }
        },
        "e178ee3861304988af3c03bc057f1fd4": {
          "model_module": "@jupyter-widgets/base",
          "model_name": "LayoutModel",
          "model_module_version": "1.2.0",
          "state": {
            "_model_module": "@jupyter-widgets/base",
            "_model_module_version": "1.2.0",
            "_model_name": "LayoutModel",
            "_view_count": null,
            "_view_module": "@jupyter-widgets/base",
            "_view_module_version": "1.2.0",
            "_view_name": "LayoutView",
            "align_content": null,
            "align_items": null,
            "align_self": null,
            "border": null,
            "bottom": null,
            "display": null,
            "flex": null,
            "flex_flow": null,
            "grid_area": null,
            "grid_auto_columns": null,
            "grid_auto_flow": null,
            "grid_auto_rows": null,
            "grid_column": null,
            "grid_gap": null,
            "grid_row": null,
            "grid_template_areas": null,
            "grid_template_columns": null,
            "grid_template_rows": null,
            "height": null,
            "justify_content": null,
            "justify_items": null,
            "left": null,
            "margin": null,
            "max_height": null,
            "max_width": null,
            "min_height": null,
            "min_width": null,
            "object_fit": null,
            "object_position": null,
            "order": null,
            "overflow": null,
            "overflow_x": null,
            "overflow_y": null,
            "padding": null,
            "right": null,
            "top": null,
            "visibility": null,
            "width": null
          }
        },
        "9954587a9ee44acea1519d1a0d278d45": {
          "model_module": "@jupyter-widgets/base",
          "model_name": "LayoutModel",
          "model_module_version": "1.2.0",
          "state": {
            "_model_module": "@jupyter-widgets/base",
            "_model_module_version": "1.2.0",
            "_model_name": "LayoutModel",
            "_view_count": null,
            "_view_module": "@jupyter-widgets/base",
            "_view_module_version": "1.2.0",
            "_view_name": "LayoutView",
            "align_content": null,
            "align_items": null,
            "align_self": null,
            "border": null,
            "bottom": null,
            "display": null,
            "flex": null,
            "flex_flow": null,
            "grid_area": null,
            "grid_auto_columns": null,
            "grid_auto_flow": null,
            "grid_auto_rows": null,
            "grid_column": null,
            "grid_gap": null,
            "grid_row": null,
            "grid_template_areas": null,
            "grid_template_columns": null,
            "grid_template_rows": null,
            "height": null,
            "justify_content": null,
            "justify_items": null,
            "left": null,
            "margin": null,
            "max_height": null,
            "max_width": null,
            "min_height": null,
            "min_width": null,
            "object_fit": null,
            "object_position": null,
            "order": null,
            "overflow": null,
            "overflow_x": null,
            "overflow_y": null,
            "padding": null,
            "right": null,
            "top": null,
            "visibility": null,
            "width": null
          }
        },
        "a6e2ad1c31e1490aa7d5b5b50182ab03": {
          "model_module": "@jupyter-widgets/controls",
          "model_name": "DescriptionStyleModel",
          "model_module_version": "1.5.0",
          "state": {
            "_model_module": "@jupyter-widgets/controls",
            "_model_module_version": "1.5.0",
            "_model_name": "DescriptionStyleModel",
            "_view_count": null,
            "_view_module": "@jupyter-widgets/base",
            "_view_module_version": "1.2.0",
            "_view_name": "StyleView",
            "description_width": ""
          }
        },
        "5f70f15bed104e7cb1132d89482459a6": {
          "model_module": "@jupyter-widgets/base",
          "model_name": "LayoutModel",
          "model_module_version": "1.2.0",
          "state": {
            "_model_module": "@jupyter-widgets/base",
            "_model_module_version": "1.2.0",
            "_model_name": "LayoutModel",
            "_view_count": null,
            "_view_module": "@jupyter-widgets/base",
            "_view_module_version": "1.2.0",
            "_view_name": "LayoutView",
            "align_content": null,
            "align_items": null,
            "align_self": null,
            "border": null,
            "bottom": null,
            "display": null,
            "flex": null,
            "flex_flow": null,
            "grid_area": null,
            "grid_auto_columns": null,
            "grid_auto_flow": null,
            "grid_auto_rows": null,
            "grid_column": null,
            "grid_gap": null,
            "grid_row": null,
            "grid_template_areas": null,
            "grid_template_columns": null,
            "grid_template_rows": null,
            "height": null,
            "justify_content": null,
            "justify_items": null,
            "left": null,
            "margin": null,
            "max_height": null,
            "max_width": null,
            "min_height": null,
            "min_width": null,
            "object_fit": null,
            "object_position": null,
            "order": null,
            "overflow": null,
            "overflow_x": null,
            "overflow_y": null,
            "padding": null,
            "right": null,
            "top": null,
            "visibility": null,
            "width": null
          }
        },
        "3352d9fb34db440fbd66588da37c2abe": {
          "model_module": "@jupyter-widgets/controls",
          "model_name": "ProgressStyleModel",
          "model_module_version": "1.5.0",
          "state": {
            "_model_module": "@jupyter-widgets/controls",
            "_model_module_version": "1.5.0",
            "_model_name": "ProgressStyleModel",
            "_view_count": null,
            "_view_module": "@jupyter-widgets/base",
            "_view_module_version": "1.2.0",
            "_view_name": "StyleView",
            "bar_color": null,
            "description_width": ""
          }
        },
        "b3c93e64dfed401d850ce7b4dfc48529": {
          "model_module": "@jupyter-widgets/base",
          "model_name": "LayoutModel",
          "model_module_version": "1.2.0",
          "state": {
            "_model_module": "@jupyter-widgets/base",
            "_model_module_version": "1.2.0",
            "_model_name": "LayoutModel",
            "_view_count": null,
            "_view_module": "@jupyter-widgets/base",
            "_view_module_version": "1.2.0",
            "_view_name": "LayoutView",
            "align_content": null,
            "align_items": null,
            "align_self": null,
            "border": null,
            "bottom": null,
            "display": null,
            "flex": null,
            "flex_flow": null,
            "grid_area": null,
            "grid_auto_columns": null,
            "grid_auto_flow": null,
            "grid_auto_rows": null,
            "grid_column": null,
            "grid_gap": null,
            "grid_row": null,
            "grid_template_areas": null,
            "grid_template_columns": null,
            "grid_template_rows": null,
            "height": null,
            "justify_content": null,
            "justify_items": null,
            "left": null,
            "margin": null,
            "max_height": null,
            "max_width": null,
            "min_height": null,
            "min_width": null,
            "object_fit": null,
            "object_position": null,
            "order": null,
            "overflow": null,
            "overflow_x": null,
            "overflow_y": null,
            "padding": null,
            "right": null,
            "top": null,
            "visibility": null,
            "width": null
          }
        },
        "821a6a7204c048c1a30101969063f90e": {
          "model_module": "@jupyter-widgets/controls",
          "model_name": "DescriptionStyleModel",
          "model_module_version": "1.5.0",
          "state": {
            "_model_module": "@jupyter-widgets/controls",
            "_model_module_version": "1.5.0",
            "_model_name": "DescriptionStyleModel",
            "_view_count": null,
            "_view_module": "@jupyter-widgets/base",
            "_view_module_version": "1.2.0",
            "_view_name": "StyleView",
            "description_width": ""
          }
        },
        "64808ba87af34887904c4a4892975e86": {
          "model_module": "@jupyter-widgets/controls",
          "model_name": "HBoxModel",
          "model_module_version": "1.5.0",
          "state": {
            "_dom_classes": [],
            "_model_module": "@jupyter-widgets/controls",
            "_model_module_version": "1.5.0",
            "_model_name": "HBoxModel",
            "_view_count": null,
            "_view_module": "@jupyter-widgets/controls",
            "_view_module_version": "1.5.0",
            "_view_name": "HBoxView",
            "box_style": "",
            "children": [
              "IPY_MODEL_74751e00589e487d8fd58d29b6363278",
              "IPY_MODEL_9b939bbb8ef046199d65fba77a303aa0",
              "IPY_MODEL_bb65806260344c2192d802ccf8646e9a"
            ],
            "layout": "IPY_MODEL_9d1ad9984c9341b8a1103d6fc7558a82"
          }
        },
        "74751e00589e487d8fd58d29b6363278": {
          "model_module": "@jupyter-widgets/controls",
          "model_name": "HTMLModel",
          "model_module_version": "1.5.0",
          "state": {
            "_dom_classes": [],
            "_model_module": "@jupyter-widgets/controls",
            "_model_module_version": "1.5.0",
            "_model_name": "HTMLModel",
            "_view_count": null,
            "_view_module": "@jupyter-widgets/controls",
            "_view_module_version": "1.5.0",
            "_view_name": "HTMLView",
            "description": "",
            "description_tooltip": null,
            "layout": "IPY_MODEL_83cb6b9d467b4a9281b29fa03d3addd9",
            "placeholder": "​",
            "style": "IPY_MODEL_979203b266db48168f84286f11388035",
            "value": "spiece.model: 100%"
          }
        },
        "9b939bbb8ef046199d65fba77a303aa0": {
          "model_module": "@jupyter-widgets/controls",
          "model_name": "FloatProgressModel",
          "model_module_version": "1.5.0",
          "state": {
            "_dom_classes": [],
            "_model_module": "@jupyter-widgets/controls",
            "_model_module_version": "1.5.0",
            "_model_name": "FloatProgressModel",
            "_view_count": null,
            "_view_module": "@jupyter-widgets/controls",
            "_view_module_version": "1.5.0",
            "_view_name": "ProgressView",
            "bar_style": "success",
            "description": "",
            "description_tooltip": null,
            "layout": "IPY_MODEL_92bfe265e7c74ecea23ce09f2db4eb05",
            "max": 791656,
            "min": 0,
            "orientation": "horizontal",
            "style": "IPY_MODEL_6538f1cb098449e88bd077e5d44ebe43",
            "value": 791656
          }
        },
        "bb65806260344c2192d802ccf8646e9a": {
          "model_module": "@jupyter-widgets/controls",
          "model_name": "HTMLModel",
          "model_module_version": "1.5.0",
          "state": {
            "_dom_classes": [],
            "_model_module": "@jupyter-widgets/controls",
            "_model_module_version": "1.5.0",
            "_model_name": "HTMLModel",
            "_view_count": null,
            "_view_module": "@jupyter-widgets/controls",
            "_view_module_version": "1.5.0",
            "_view_name": "HTMLView",
            "description": "",
            "description_tooltip": null,
            "layout": "IPY_MODEL_c4caeb65959748668b925f7f2752a7e3",
            "placeholder": "​",
            "style": "IPY_MODEL_2c38d13837914d56bb03d2c1e19f0b15",
            "value": " 792k/792k [00:00&lt;00:00, 4.15MB/s]"
          }
        },
        "9d1ad9984c9341b8a1103d6fc7558a82": {
          "model_module": "@jupyter-widgets/base",
          "model_name": "LayoutModel",
          "model_module_version": "1.2.0",
          "state": {
            "_model_module": "@jupyter-widgets/base",
            "_model_module_version": "1.2.0",
            "_model_name": "LayoutModel",
            "_view_count": null,
            "_view_module": "@jupyter-widgets/base",
            "_view_module_version": "1.2.0",
            "_view_name": "LayoutView",
            "align_content": null,
            "align_items": null,
            "align_self": null,
            "border": null,
            "bottom": null,
            "display": null,
            "flex": null,
            "flex_flow": null,
            "grid_area": null,
            "grid_auto_columns": null,
            "grid_auto_flow": null,
            "grid_auto_rows": null,
            "grid_column": null,
            "grid_gap": null,
            "grid_row": null,
            "grid_template_areas": null,
            "grid_template_columns": null,
            "grid_template_rows": null,
            "height": null,
            "justify_content": null,
            "justify_items": null,
            "left": null,
            "margin": null,
            "max_height": null,
            "max_width": null,
            "min_height": null,
            "min_width": null,
            "object_fit": null,
            "object_position": null,
            "order": null,
            "overflow": null,
            "overflow_x": null,
            "overflow_y": null,
            "padding": null,
            "right": null,
            "top": null,
            "visibility": null,
            "width": null
          }
        },
        "83cb6b9d467b4a9281b29fa03d3addd9": {
          "model_module": "@jupyter-widgets/base",
          "model_name": "LayoutModel",
          "model_module_version": "1.2.0",
          "state": {
            "_model_module": "@jupyter-widgets/base",
            "_model_module_version": "1.2.0",
            "_model_name": "LayoutModel",
            "_view_count": null,
            "_view_module": "@jupyter-widgets/base",
            "_view_module_version": "1.2.0",
            "_view_name": "LayoutView",
            "align_content": null,
            "align_items": null,
            "align_self": null,
            "border": null,
            "bottom": null,
            "display": null,
            "flex": null,
            "flex_flow": null,
            "grid_area": null,
            "grid_auto_columns": null,
            "grid_auto_flow": null,
            "grid_auto_rows": null,
            "grid_column": null,
            "grid_gap": null,
            "grid_row": null,
            "grid_template_areas": null,
            "grid_template_columns": null,
            "grid_template_rows": null,
            "height": null,
            "justify_content": null,
            "justify_items": null,
            "left": null,
            "margin": null,
            "max_height": null,
            "max_width": null,
            "min_height": null,
            "min_width": null,
            "object_fit": null,
            "object_position": null,
            "order": null,
            "overflow": null,
            "overflow_x": null,
            "overflow_y": null,
            "padding": null,
            "right": null,
            "top": null,
            "visibility": null,
            "width": null
          }
        },
        "979203b266db48168f84286f11388035": {
          "model_module": "@jupyter-widgets/controls",
          "model_name": "DescriptionStyleModel",
          "model_module_version": "1.5.0",
          "state": {
            "_model_module": "@jupyter-widgets/controls",
            "_model_module_version": "1.5.0",
            "_model_name": "DescriptionStyleModel",
            "_view_count": null,
            "_view_module": "@jupyter-widgets/base",
            "_view_module_version": "1.2.0",
            "_view_name": "StyleView",
            "description_width": ""
          }
        },
        "92bfe265e7c74ecea23ce09f2db4eb05": {
          "model_module": "@jupyter-widgets/base",
          "model_name": "LayoutModel",
          "model_module_version": "1.2.0",
          "state": {
            "_model_module": "@jupyter-widgets/base",
            "_model_module_version": "1.2.0",
            "_model_name": "LayoutModel",
            "_view_count": null,
            "_view_module": "@jupyter-widgets/base",
            "_view_module_version": "1.2.0",
            "_view_name": "LayoutView",
            "align_content": null,
            "align_items": null,
            "align_self": null,
            "border": null,
            "bottom": null,
            "display": null,
            "flex": null,
            "flex_flow": null,
            "grid_area": null,
            "grid_auto_columns": null,
            "grid_auto_flow": null,
            "grid_auto_rows": null,
            "grid_column": null,
            "grid_gap": null,
            "grid_row": null,
            "grid_template_areas": null,
            "grid_template_columns": null,
            "grid_template_rows": null,
            "height": null,
            "justify_content": null,
            "justify_items": null,
            "left": null,
            "margin": null,
            "max_height": null,
            "max_width": null,
            "min_height": null,
            "min_width": null,
            "object_fit": null,
            "object_position": null,
            "order": null,
            "overflow": null,
            "overflow_x": null,
            "overflow_y": null,
            "padding": null,
            "right": null,
            "top": null,
            "visibility": null,
            "width": null
          }
        },
        "6538f1cb098449e88bd077e5d44ebe43": {
          "model_module": "@jupyter-widgets/controls",
          "model_name": "ProgressStyleModel",
          "model_module_version": "1.5.0",
          "state": {
            "_model_module": "@jupyter-widgets/controls",
            "_model_module_version": "1.5.0",
            "_model_name": "ProgressStyleModel",
            "_view_count": null,
            "_view_module": "@jupyter-widgets/base",
            "_view_module_version": "1.2.0",
            "_view_name": "StyleView",
            "bar_color": null,
            "description_width": ""
          }
        },
        "c4caeb65959748668b925f7f2752a7e3": {
          "model_module": "@jupyter-widgets/base",
          "model_name": "LayoutModel",
          "model_module_version": "1.2.0",
          "state": {
            "_model_module": "@jupyter-widgets/base",
            "_model_module_version": "1.2.0",
            "_model_name": "LayoutModel",
            "_view_count": null,
            "_view_module": "@jupyter-widgets/base",
            "_view_module_version": "1.2.0",
            "_view_name": "LayoutView",
            "align_content": null,
            "align_items": null,
            "align_self": null,
            "border": null,
            "bottom": null,
            "display": null,
            "flex": null,
            "flex_flow": null,
            "grid_area": null,
            "grid_auto_columns": null,
            "grid_auto_flow": null,
            "grid_auto_rows": null,
            "grid_column": null,
            "grid_gap": null,
            "grid_row": null,
            "grid_template_areas": null,
            "grid_template_columns": null,
            "grid_template_rows": null,
            "height": null,
            "justify_content": null,
            "justify_items": null,
            "left": null,
            "margin": null,
            "max_height": null,
            "max_width": null,
            "min_height": null,
            "min_width": null,
            "object_fit": null,
            "object_position": null,
            "order": null,
            "overflow": null,
            "overflow_x": null,
            "overflow_y": null,
            "padding": null,
            "right": null,
            "top": null,
            "visibility": null,
            "width": null
          }
        },
        "2c38d13837914d56bb03d2c1e19f0b15": {
          "model_module": "@jupyter-widgets/controls",
          "model_name": "DescriptionStyleModel",
          "model_module_version": "1.5.0",
          "state": {
            "_model_module": "@jupyter-widgets/controls",
            "_model_module_version": "1.5.0",
            "_model_name": "DescriptionStyleModel",
            "_view_count": null,
            "_view_module": "@jupyter-widgets/base",
            "_view_module_version": "1.2.0",
            "_view_name": "StyleView",
            "description_width": ""
          }
        },
        "8f7cd3ca56e74d90a83607c74b13169d": {
          "model_module": "@jupyter-widgets/controls",
          "model_name": "HBoxModel",
          "model_module_version": "1.5.0",
          "state": {
            "_dom_classes": [],
            "_model_module": "@jupyter-widgets/controls",
            "_model_module_version": "1.5.0",
            "_model_name": "HBoxModel",
            "_view_count": null,
            "_view_module": "@jupyter-widgets/controls",
            "_view_module_version": "1.5.0",
            "_view_name": "HBoxView",
            "box_style": "",
            "children": [
              "IPY_MODEL_bcb634e4f7ff483d8dc1f606361ec9c2",
              "IPY_MODEL_cde79ac134054b12bafdc5905d51b7f7",
              "IPY_MODEL_d10bd0197b9e40f7946ed1f5734f3a4a"
            ],
            "layout": "IPY_MODEL_dd4d3b1396214f2a9ad884a8f59b252a"
          }
        },
        "bcb634e4f7ff483d8dc1f606361ec9c2": {
          "model_module": "@jupyter-widgets/controls",
          "model_name": "HTMLModel",
          "model_module_version": "1.5.0",
          "state": {
            "_dom_classes": [],
            "_model_module": "@jupyter-widgets/controls",
            "_model_module_version": "1.5.0",
            "_model_name": "HTMLModel",
            "_view_count": null,
            "_view_module": "@jupyter-widgets/controls",
            "_view_module_version": "1.5.0",
            "_view_name": "HTMLView",
            "description": "",
            "description_tooltip": null,
            "layout": "IPY_MODEL_6049a703f8764c599967d7d1e4c38735",
            "placeholder": "​",
            "style": "IPY_MODEL_dbe6e57e984c4be2a497d9066c8b3b10",
            "value": "tokenizer.json: 100%"
          }
        },
        "cde79ac134054b12bafdc5905d51b7f7": {
          "model_module": "@jupyter-widgets/controls",
          "model_name": "FloatProgressModel",
          "model_module_version": "1.5.0",
          "state": {
            "_dom_classes": [],
            "_model_module": "@jupyter-widgets/controls",
            "_model_module_version": "1.5.0",
            "_model_name": "FloatProgressModel",
            "_view_count": null,
            "_view_module": "@jupyter-widgets/controls",
            "_view_module_version": "1.5.0",
            "_view_name": "ProgressView",
            "bar_style": "success",
            "description": "",
            "description_tooltip": null,
            "layout": "IPY_MODEL_d0d2e8f2e7b3486a91ce54f1de72be99",
            "max": 1389353,
            "min": 0,
            "orientation": "horizontal",
            "style": "IPY_MODEL_2cb303687dac4cfa9fa56120326795db",
            "value": 1389353
          }
        },
        "d10bd0197b9e40f7946ed1f5734f3a4a": {
          "model_module": "@jupyter-widgets/controls",
          "model_name": "HTMLModel",
          "model_module_version": "1.5.0",
          "state": {
            "_dom_classes": [],
            "_model_module": "@jupyter-widgets/controls",
            "_model_module_version": "1.5.0",
            "_model_name": "HTMLModel",
            "_view_count": null,
            "_view_module": "@jupyter-widgets/controls",
            "_view_module_version": "1.5.0",
            "_view_name": "HTMLView",
            "description": "",
            "description_tooltip": null,
            "layout": "IPY_MODEL_b66af8a1165144a5ad667273cf22b163",
            "placeholder": "​",
            "style": "IPY_MODEL_173c91b3cff44b24995a1d06dc1c81d6",
            "value": " 1.39M/1.39M [00:00&lt;00:00, 15.4MB/s]"
          }
        },
        "dd4d3b1396214f2a9ad884a8f59b252a": {
          "model_module": "@jupyter-widgets/base",
          "model_name": "LayoutModel",
          "model_module_version": "1.2.0",
          "state": {
            "_model_module": "@jupyter-widgets/base",
            "_model_module_version": "1.2.0",
            "_model_name": "LayoutModel",
            "_view_count": null,
            "_view_module": "@jupyter-widgets/base",
            "_view_module_version": "1.2.0",
            "_view_name": "LayoutView",
            "align_content": null,
            "align_items": null,
            "align_self": null,
            "border": null,
            "bottom": null,
            "display": null,
            "flex": null,
            "flex_flow": null,
            "grid_area": null,
            "grid_auto_columns": null,
            "grid_auto_flow": null,
            "grid_auto_rows": null,
            "grid_column": null,
            "grid_gap": null,
            "grid_row": null,
            "grid_template_areas": null,
            "grid_template_columns": null,
            "grid_template_rows": null,
            "height": null,
            "justify_content": null,
            "justify_items": null,
            "left": null,
            "margin": null,
            "max_height": null,
            "max_width": null,
            "min_height": null,
            "min_width": null,
            "object_fit": null,
            "object_position": null,
            "order": null,
            "overflow": null,
            "overflow_x": null,
            "overflow_y": null,
            "padding": null,
            "right": null,
            "top": null,
            "visibility": null,
            "width": null
          }
        },
        "6049a703f8764c599967d7d1e4c38735": {
          "model_module": "@jupyter-widgets/base",
          "model_name": "LayoutModel",
          "model_module_version": "1.2.0",
          "state": {
            "_model_module": "@jupyter-widgets/base",
            "_model_module_version": "1.2.0",
            "_model_name": "LayoutModel",
            "_view_count": null,
            "_view_module": "@jupyter-widgets/base",
            "_view_module_version": "1.2.0",
            "_view_name": "LayoutView",
            "align_content": null,
            "align_items": null,
            "align_self": null,
            "border": null,
            "bottom": null,
            "display": null,
            "flex": null,
            "flex_flow": null,
            "grid_area": null,
            "grid_auto_columns": null,
            "grid_auto_flow": null,
            "grid_auto_rows": null,
            "grid_column": null,
            "grid_gap": null,
            "grid_row": null,
            "grid_template_areas": null,
            "grid_template_columns": null,
            "grid_template_rows": null,
            "height": null,
            "justify_content": null,
            "justify_items": null,
            "left": null,
            "margin": null,
            "max_height": null,
            "max_width": null,
            "min_height": null,
            "min_width": null,
            "object_fit": null,
            "object_position": null,
            "order": null,
            "overflow": null,
            "overflow_x": null,
            "overflow_y": null,
            "padding": null,
            "right": null,
            "top": null,
            "visibility": null,
            "width": null
          }
        },
        "dbe6e57e984c4be2a497d9066c8b3b10": {
          "model_module": "@jupyter-widgets/controls",
          "model_name": "DescriptionStyleModel",
          "model_module_version": "1.5.0",
          "state": {
            "_model_module": "@jupyter-widgets/controls",
            "_model_module_version": "1.5.0",
            "_model_name": "DescriptionStyleModel",
            "_view_count": null,
            "_view_module": "@jupyter-widgets/base",
            "_view_module_version": "1.2.0",
            "_view_name": "StyleView",
            "description_width": ""
          }
        },
        "d0d2e8f2e7b3486a91ce54f1de72be99": {
          "model_module": "@jupyter-widgets/base",
          "model_name": "LayoutModel",
          "model_module_version": "1.2.0",
          "state": {
            "_model_module": "@jupyter-widgets/base",
            "_model_module_version": "1.2.0",
            "_model_name": "LayoutModel",
            "_view_count": null,
            "_view_module": "@jupyter-widgets/base",
            "_view_module_version": "1.2.0",
            "_view_name": "LayoutView",
            "align_content": null,
            "align_items": null,
            "align_self": null,
            "border": null,
            "bottom": null,
            "display": null,
            "flex": null,
            "flex_flow": null,
            "grid_area": null,
            "grid_auto_columns": null,
            "grid_auto_flow": null,
            "grid_auto_rows": null,
            "grid_column": null,
            "grid_gap": null,
            "grid_row": null,
            "grid_template_areas": null,
            "grid_template_columns": null,
            "grid_template_rows": null,
            "height": null,
            "justify_content": null,
            "justify_items": null,
            "left": null,
            "margin": null,
            "max_height": null,
            "max_width": null,
            "min_height": null,
            "min_width": null,
            "object_fit": null,
            "object_position": null,
            "order": null,
            "overflow": null,
            "overflow_x": null,
            "overflow_y": null,
            "padding": null,
            "right": null,
            "top": null,
            "visibility": null,
            "width": null
          }
        },
        "2cb303687dac4cfa9fa56120326795db": {
          "model_module": "@jupyter-widgets/controls",
          "model_name": "ProgressStyleModel",
          "model_module_version": "1.5.0",
          "state": {
            "_model_module": "@jupyter-widgets/controls",
            "_model_module_version": "1.5.0",
            "_model_name": "ProgressStyleModel",
            "_view_count": null,
            "_view_module": "@jupyter-widgets/base",
            "_view_module_version": "1.2.0",
            "_view_name": "StyleView",
            "bar_color": null,
            "description_width": ""
          }
        },
        "b66af8a1165144a5ad667273cf22b163": {
          "model_module": "@jupyter-widgets/base",
          "model_name": "LayoutModel",
          "model_module_version": "1.2.0",
          "state": {
            "_model_module": "@jupyter-widgets/base",
            "_model_module_version": "1.2.0",
            "_model_name": "LayoutModel",
            "_view_count": null,
            "_view_module": "@jupyter-widgets/base",
            "_view_module_version": "1.2.0",
            "_view_name": "LayoutView",
            "align_content": null,
            "align_items": null,
            "align_self": null,
            "border": null,
            "bottom": null,
            "display": null,
            "flex": null,
            "flex_flow": null,
            "grid_area": null,
            "grid_auto_columns": null,
            "grid_auto_flow": null,
            "grid_auto_rows": null,
            "grid_column": null,
            "grid_gap": null,
            "grid_row": null,
            "grid_template_areas": null,
            "grid_template_columns": null,
            "grid_template_rows": null,
            "height": null,
            "justify_content": null,
            "justify_items": null,
            "left": null,
            "margin": null,
            "max_height": null,
            "max_width": null,
            "min_height": null,
            "min_width": null,
            "object_fit": null,
            "object_position": null,
            "order": null,
            "overflow": null,
            "overflow_x": null,
            "overflow_y": null,
            "padding": null,
            "right": null,
            "top": null,
            "visibility": null,
            "width": null
          }
        },
        "173c91b3cff44b24995a1d06dc1c81d6": {
          "model_module": "@jupyter-widgets/controls",
          "model_name": "DescriptionStyleModel",
          "model_module_version": "1.5.0",
          "state": {
            "_model_module": "@jupyter-widgets/controls",
            "_model_module_version": "1.5.0",
            "_model_name": "DescriptionStyleModel",
            "_view_count": null,
            "_view_module": "@jupyter-widgets/base",
            "_view_module_version": "1.2.0",
            "_view_name": "StyleView",
            "description_width": ""
          }
        }
      }
    }
  },
  "cells": [
    {
      "cell_type": "markdown",
      "metadata": {
        "id": "tHopPtVaNF1K"
      },
      "source": [
        "# **Diplomado IA: Aplicaciones de Inteligencia Artificial I - Parte 2**. <br> Práctico 22: Generación de resúmenes\n",
        "---\n",
        "---\n",
        "\n",
        "**Profesores:**\n",
        "- Felipe del Río\n",
        "\n",
        "**Ayudante:**\n",
        "- Bianca del Solar\n",
        "---\n",
        "---"
      ]
    },
    {
      "cell_type": "markdown",
      "metadata": {
        "id": "uIdAKAdELPSl"
      },
      "source": [
        "# **Instrucciones Generales**"
      ]
    },
    {
      "cell_type": "markdown",
      "metadata": {
        "id": "BmhnKlt8Ns7A"
      },
      "source": [
        "El siguiente práctico se debe realizar de forma **individual**. El formato de entregar es el **archivo .ipynb con todas las celdas ejecutadas**. Todas las preguntas deben ser respondida en celdas de texto. No se aceptará el _output_ de una celda de código como respuesta.\n",
        "\n",
        "**Nombre:** Angelo Pimentel Quijano\n",
        "\n",
        "El siguiente práctico cuanta con 3 secciones donde cada una contendrá 1 o más actividades a realizar. Algunas actividades correspondrán a escribir código y otras a responder preguntas.\n",
        "\n",
        "Se recomienda **fuertemente** revisar las secciones donde se entrega código porque algunas actividades de código pueden reutilizar el mismo código pero con cambios en algunas líneas.\n",
        "\n"
      ]
    },
    {
      "cell_type": "markdown",
      "metadata": {
        "id": "kEloa5uXLIPK"
      },
      "source": [
        "# **Agenda**"
      ]
    },
    {
      "cell_type": "markdown",
      "metadata": {
        "colab_type": "toc",
        "id": "DGlX5q_pQYRa"
      },
      "source": [
        ">[Diplomado IA: Aplicaciones de Inteligencia Artificial I - Parte 2.  Práctico 22: Generación de resúmenes](#scrollTo=tHopPtVaNF1K)\n",
        "\n",
        ">[Instrucciones Generales](#scrollTo=uIdAKAdELPSl)\n",
        "\n",
        ">[Agenda](#scrollTo=kEloa5uXLIPK)\n",
        "\n",
        ">[Parte II: Generación de Resumenes Abstractivos ft. Huggingface's T5](#scrollTo=s-qQ_vAbhLY5)\n",
        "\n",
        ">>[Preámbulo](#scrollTo=jFqmDr1T6mVq)\n",
        "\n",
        ">>[Resumenes Abstractivos usando T5](#scrollTo=ThoicltP6yAe)\n",
        "\n",
        ">>[Evaluación Cualitativa](#scrollTo=aH8JCHRcdzzS)\n",
        "\n",
        ">>[Actividad 2](#scrollTo=98e-xDC87eG-)\n",
        "\n",
        ">>[Actividad 3 - Parámetros de Decodificación](#scrollTo=Qi3RQ-OiX85A)\n",
        "\n",
        ">>>[Número de Rayos de Beam Search](#scrollTo=9w4_w2LwaT_Y)\n",
        "\n",
        ">>>>[num_beams=5](#scrollTo=KzJDRPBSakn3)\n",
        "\n",
        ">>>>[num_beams=20](#scrollTo=nUj8fcVZar0Y)\n",
        "\n",
        ">>>[Utilicemos aleatoriedad para samplear los resumenes](#scrollTo=Rko7cGwIblFi)\n",
        "\n",
        ">>>>[do_sample=False](#scrollTo=ge4ySyZobdzx)\n",
        "\n",
        ">>>>[do_sample=True](#scrollTo=C918sXK8bdzy)\n",
        "\n",
        ">>>[Nucleus Sample](#scrollTo=zwBNqkcPcvzb)\n",
        "\n",
        ">>>>[top_p=0.95](#scrollTo=bW__UwGqcvzc)\n",
        "\n",
        ">>>>[top_p=0.9](#scrollTo=3JRdMHLBcvzc)\n",
        "\n",
        ">>>[Temperatura](#scrollTo=oyQgEBdweQDT)\n",
        "\n",
        ">>>>[temperature=0.6](#scrollTo=81ByEZsceQDU)\n",
        "\n",
        ">>>>[temperature=1.5](#scrollTo=wXQBj5NseQDU)\n",
        "\n",
        ">>[Evaluemos el Modelo](#scrollTo=w4DjPP9_Z4tC)\n",
        "\n",
        ">>>[Dataset CNN/DailyMail](#scrollTo=ZXYQYRrafgA7)\n",
        "\n",
        ">>>[Evaluación](#scrollTo=IK2C_8E_0KYB)\n",
        "\n",
        ">>>[Inspección de Ejemplo](#scrollTo=y8yn_aVZ1EaM)\n",
        "\n",
        ">>>[Evaluación Completa sobre CNN/DailyMail](#scrollTo=uuUxn7Jcguw9)\n",
        "\n",
        ">>[Actividad 4](#scrollTo=LhPF_wGTiS32)\n",
        "\n"
      ]
    },
    {
      "cell_type": "markdown",
      "metadata": {
        "id": "s-qQ_vAbhLY5"
      },
      "source": [
        "# Parte II: Generación de Resumenes Abstractivos ft. Huggingface's T5\n",
        "\n",
        "<small>Agradecemos a Carlos Aspillaga por el código base para esta sección.</small>\n",
        "\n",
        "En esta última secciónn veremos como se comporta un modelo abstractivo basado en Transformers, específicamente el [modelo T5](https://arxiv.org/pdf/1910.10683.pdf). Este modelo está basado en el transformer original (completo, no solo el encoder como BERT o decoder como GPT-X) el cual tiene un entrenamiento no supervisado en generación de texto basado en el de BERT. Y está pensado para luego ser especializado en una tarea relevante de generación, como generación de automática de resumenes, que posea menor cantidad de datos.\n",
        "\n",
        "![1_D0J1gNQf8vrrUpKeyD8wPA.png](https://miro.medium.com/max/4006/1*D0J1gNQf8vrrUpKeyD8wPA.png)\n",
        "\n"
      ]
    },
    {
      "cell_type": "markdown",
      "metadata": {
        "id": "jFqmDr1T6mVq"
      },
      "source": [
        "## Preámbulo\n",
        "\n",
        "Primero debemos descargar distintas utilidades para realizar la actividad.\n",
        "\n",
        "Debemos importar algunas de las librerías que ocuparemos durante esta actividad, como `pytorch` y `transformers`."
      ]
    },
    {
      "cell_type": "code",
      "metadata": {
        "id": "1taCP_BxhOKD"
      },
      "source": [
        "import warnings\n",
        "warnings.filterwarnings('ignore')"
      ],
      "execution_count": 1,
      "outputs": []
    },
    {
      "cell_type": "code",
      "metadata": {
        "id": "WyGfm91cTibv",
        "colab": {
          "base_uri": "https://localhost:8080/"
        },
        "outputId": "8fc68913-3aee-45ff-feb3-0169607e45a5"
      },
      "source": [
        "# Instalamos los paquetes a utilizar.\n",
        "!pip install -qqq rouge-score\n",
        "!pip install -qqq 'transformers[torch]'==4.45.2\n",
        "!pip install -qqq datasets==3.0.1\n",
        "!pip install -qqq evaluate==0.4.3\n",
        "!pip install -qqq sentencepiece==0.1.99"
      ],
      "execution_count": 2,
      "outputs": [
        {
          "output_type": "stream",
          "name": "stdout",
          "text": [
            "  Preparing metadata (setup.py) ... \u001b[?25l\u001b[?25hdone\n",
            "  Building wheel for rouge-score (setup.py) ... \u001b[?25l\u001b[?25hdone\n",
            "\u001b[2K     \u001b[90m━━━━━━━━━━━━━━━━━━━━━━━━━━━━━━━━━━━━━━━━\u001b[0m \u001b[32m44.4/44.4 kB\u001b[0m \u001b[31m3.2 MB/s\u001b[0m eta \u001b[36m0:00:00\u001b[0m\n",
            "\u001b[2K   \u001b[90m━━━━━━━━━━━━━━━━━━━━━━━━━━━━━━━━━━━━━━━━\u001b[0m \u001b[32m9.9/9.9 MB\u001b[0m \u001b[31m78.3 MB/s\u001b[0m eta \u001b[36m0:00:00\u001b[0m\n",
            "\u001b[2K   \u001b[90m━━━━━━━━━━━━━━━━━━━━━━━━━━━━━━━━━━━━━━━━\u001b[0m \u001b[32m3.0/3.0 MB\u001b[0m \u001b[31m32.8 MB/s\u001b[0m eta \u001b[36m0:00:00\u001b[0m\n",
            "\u001b[2K   \u001b[90m━━━━━━━━━━━━━━━━━━━━━━━━━━━━━━━━━━━━━━━━\u001b[0m \u001b[32m471.6/471.6 kB\u001b[0m \u001b[31m12.5 MB/s\u001b[0m eta \u001b[36m0:00:00\u001b[0m\n",
            "\u001b[2K   \u001b[90m━━━━━━━━━━━━━━━━━━━━━━━━━━━━━━━━━━━━━━━━\u001b[0m \u001b[32m177.6/177.6 kB\u001b[0m \u001b[31m11.7 MB/s\u001b[0m eta \u001b[36m0:00:00\u001b[0m\n",
            "\u001b[?25h\u001b[31mERROR: pip's dependency resolver does not currently take into account all the packages that are installed. This behaviour is the source of the following dependency conflicts.\n",
            "gcsfs 2025.3.0 requires fsspec==2025.3.0, but you have fsspec 2024.6.1 which is incompatible.\u001b[0m\u001b[31m\n",
            "\u001b[2K   \u001b[90m━━━━━━━━━━━━━━━━━━━━━━━━━━━━━━━━━━━━━━━━\u001b[0m \u001b[32m84.0/84.0 kB\u001b[0m \u001b[31m4.8 MB/s\u001b[0m eta \u001b[36m0:00:00\u001b[0m\n",
            "\u001b[2K     \u001b[90m━━━━━━━━━━━━━━━━━━━━━━━━━━━━━━━━━━━━━━━━\u001b[0m \u001b[32m2.6/2.6 MB\u001b[0m \u001b[31m44.8 MB/s\u001b[0m eta \u001b[36m0:00:00\u001b[0m\n",
            "\u001b[?25h  Preparing metadata (setup.py) ... \u001b[?25l\u001b[?25hdone\n",
            "  Building wheel for sentencepiece (setup.py) ... \u001b[?25l\u001b[?25hdone\n"
          ]
        }
      ]
    },
    {
      "cell_type": "code",
      "metadata": {
        "id": "Rz7aHQK-q06P"
      },
      "source": [
        "import json\n",
        "import random\n",
        "import matplotlib.pyplot as plt\n",
        "import numpy as np\n",
        "import torch\n",
        "from torch.utils.data import DataLoader\n",
        "from transformers import T5Tokenizer, T5ForConditionalGeneration, T5Config\n",
        "from tqdm.auto import tqdm"
      ],
      "execution_count": 3,
      "outputs": []
    },
    {
      "cell_type": "code",
      "metadata": {
        "id": "_6-VdZINEsF6"
      },
      "source": [
        "import textwrap\n",
        "\n",
        "# Funciones auxiliares para mostrar los resultados\n",
        "\n",
        "def bold(text):\n",
        "  return '\\033[1m' + text + '\\033[0m'"
      ],
      "execution_count": 4,
      "outputs": []
    },
    {
      "cell_type": "markdown",
      "metadata": {
        "id": "ThoicltP6yAe"
      },
      "source": [
        "## Resumenes Abstractivos usando T5\n",
        "\n",
        "A continuación utilizaremos un modelo pre-entranado que nos provee la librería `transformers` de hugginface y lo usaremos para generar resumenes.\n",
        "\n",
        "Utilizaremos la versión *small* de este modelo. Tiene 60 millones de parámetros (vs. 220 millones en su versión *base* y 770 millones su versión *large*) y tanto el encoder y el decoder tienen los siguientes parámetros:\n",
        "- $d_{model} = 512$\n",
        "- $d_{ff} = 2,048$\n",
        "- 8 heads\n",
        "- 6 capas"
      ]
    },
    {
      "cell_type": "code",
      "metadata": {
        "id": "2ZJ8g50Cq06Q",
        "colab": {
          "base_uri": "https://localhost:8080/",
          "height": 247,
          "referenced_widgets": [
            "714a2eaaa2dc4745a0c3a3bf5faf53b2",
            "4ecca3b831644c88a9d504116a9471ad",
            "ba0fdd4a31874488a2e9f83d37b7ff7c",
            "cacee24f335c4e3886c4a8285f49df43",
            "8e18cbb982e94eafac32bcc9334db52e",
            "c7482ed0fd8f4a6291744287ab142161",
            "b28f425999604312bd646f577f6423c2",
            "f5c8e781757f420785cc28af2ffbbcc0",
            "340c5155fa1a4215a195e712d18f246b",
            "0f9969a939594463942920ebc5c0c4f8",
            "0024b9417a254f29adeb88d4de2b4085",
            "15d20a073404499baa54da9c770f2ceb",
            "5b0fc6347926444991c082edadbf7f30",
            "e22d48e8f2364548b46b52b77ee2f7b9",
            "a5ff5fab681c49a19447acb7d6182231",
            "46e5f215d075472e82115160d8200556",
            "4d8ec6ff3575487fa9d1e7c3e5b532dc",
            "2497afee7dda4b78a343443a9650e086",
            "fae945cc1ec7473281af2a1fb76054c9",
            "97e5f61cc1574f6fb2f4adf31b854a15",
            "a5e0c98156254ac582f797cbd73deb3e",
            "b2e430c5d74e4859a0b8d9071b284850",
            "fb200015c1804ae8b426929f53ee657a",
            "791fe4a2c20b4c05aa62407b7da3649b",
            "bda541dfb53741e5a877a34707ed5152",
            "3af324bc5422447d85a4a0c6308da823",
            "8f14dbe0abf64b068f6ca9e0b86b0851",
            "dfb585b9805145059dd1719e9b86d323",
            "6fc92c44d9e746bb9096faed22c39eaa",
            "7a194d78b0b14891a40df11584c33008",
            "6e0ccf77bf2a44309022d9fe93af3a9f",
            "9b312b9c31984291be43fdfa6689dcb5",
            "b10019ceca7f4c428612b17680cc05cd",
            "35321d7cce9645e2a6417c2e5889bfc8",
            "0d7228d7d36148e89811ab8c07a3385f",
            "e42dba620d5c4d769d4d0b4a0efce15b",
            "b17c036a09354e57b5d6aecd11c4c557",
            "e178ee3861304988af3c03bc057f1fd4",
            "9954587a9ee44acea1519d1a0d278d45",
            "a6e2ad1c31e1490aa7d5b5b50182ab03",
            "5f70f15bed104e7cb1132d89482459a6",
            "3352d9fb34db440fbd66588da37c2abe",
            "b3c93e64dfed401d850ce7b4dfc48529",
            "821a6a7204c048c1a30101969063f90e",
            "64808ba87af34887904c4a4892975e86",
            "74751e00589e487d8fd58d29b6363278",
            "9b939bbb8ef046199d65fba77a303aa0",
            "bb65806260344c2192d802ccf8646e9a",
            "9d1ad9984c9341b8a1103d6fc7558a82",
            "83cb6b9d467b4a9281b29fa03d3addd9",
            "979203b266db48168f84286f11388035",
            "92bfe265e7c74ecea23ce09f2db4eb05",
            "6538f1cb098449e88bd077e5d44ebe43",
            "c4caeb65959748668b925f7f2752a7e3",
            "2c38d13837914d56bb03d2c1e19f0b15",
            "8f7cd3ca56e74d90a83607c74b13169d",
            "bcb634e4f7ff483d8dc1f606361ec9c2",
            "cde79ac134054b12bafdc5905d51b7f7",
            "d10bd0197b9e40f7946ed1f5734f3a4a",
            "dd4d3b1396214f2a9ad884a8f59b252a",
            "6049a703f8764c599967d7d1e4c38735",
            "dbe6e57e984c4be2a497d9066c8b3b10",
            "d0d2e8f2e7b3486a91ce54f1de72be99",
            "2cb303687dac4cfa9fa56120326795db",
            "b66af8a1165144a5ad667273cf22b163",
            "173c91b3cff44b24995a1d06dc1c81d6"
          ]
        },
        "outputId": "a59123bf-39d6-4f85-c23e-bf1e0008ed44"
      },
      "source": [
        "t5_model = 't5-small' # Podríamos usar un modelo más grande, por e.g.: 't5-base'\n",
        "\n",
        "device = torch.device('cuda')\n",
        "model = T5ForConditionalGeneration.from_pretrained(t5_model).to(device)\n",
        "tokenizer = T5Tokenizer.from_pretrained(t5_model)"
      ],
      "execution_count": 5,
      "outputs": [
        {
          "output_type": "display_data",
          "data": {
            "text/plain": [
              "config.json:   0%|          | 0.00/1.21k [00:00<?, ?B/s]"
            ],
            "application/vnd.jupyter.widget-view+json": {
              "version_major": 2,
              "version_minor": 0,
              "model_id": "714a2eaaa2dc4745a0c3a3bf5faf53b2"
            }
          },
          "metadata": {}
        },
        {
          "output_type": "display_data",
          "data": {
            "text/plain": [
              "model.safetensors:   0%|          | 0.00/242M [00:00<?, ?B/s]"
            ],
            "application/vnd.jupyter.widget-view+json": {
              "version_major": 2,
              "version_minor": 0,
              "model_id": "15d20a073404499baa54da9c770f2ceb"
            }
          },
          "metadata": {}
        },
        {
          "output_type": "display_data",
          "data": {
            "text/plain": [
              "generation_config.json:   0%|          | 0.00/147 [00:00<?, ?B/s]"
            ],
            "application/vnd.jupyter.widget-view+json": {
              "version_major": 2,
              "version_minor": 0,
              "model_id": "fb200015c1804ae8b426929f53ee657a"
            }
          },
          "metadata": {}
        },
        {
          "output_type": "display_data",
          "data": {
            "text/plain": [
              "tokenizer_config.json:   0%|          | 0.00/2.32k [00:00<?, ?B/s]"
            ],
            "application/vnd.jupyter.widget-view+json": {
              "version_major": 2,
              "version_minor": 0,
              "model_id": "35321d7cce9645e2a6417c2e5889bfc8"
            }
          },
          "metadata": {}
        },
        {
          "output_type": "display_data",
          "data": {
            "text/plain": [
              "spiece.model:   0%|          | 0.00/792k [00:00<?, ?B/s]"
            ],
            "application/vnd.jupyter.widget-view+json": {
              "version_major": 2,
              "version_minor": 0,
              "model_id": "64808ba87af34887904c4a4892975e86"
            }
          },
          "metadata": {}
        },
        {
          "output_type": "display_data",
          "data": {
            "text/plain": [
              "tokenizer.json:   0%|          | 0.00/1.39M [00:00<?, ?B/s]"
            ],
            "application/vnd.jupyter.widget-view+json": {
              "version_major": 2,
              "version_minor": 0,
              "model_id": "8f7cd3ca56e74d90a83607c74b13169d"
            }
          },
          "metadata": {}
        },
        {
          "output_type": "stream",
          "name": "stderr",
          "text": [
            "You are using the default legacy behaviour of the <class 'transformers.models.t5.tokenization_t5.T5Tokenizer'>. This is expected, and simply means that the `legacy` (previous) behavior will be used so nothing changes for you. If you want to use the new behaviour, set `legacy=False`. This should only be set if you understand what it means, and thoroughly read the reason why this was added as explained in https://github.com/huggingface/transformers/pull/24565\n"
          ]
        }
      ]
    },
    {
      "cell_type": "markdown",
      "source": [
        "## Evaluación Cualitativa\n",
        "\n",
        "Siempre es buena idea evaluar de forma cualitativa los modelos que entrenamos. Esto nos permite hacernos una intuición de cómo está funcionando y qué problemas puede tener.\n",
        "\n",
        "En esta parte de la actividad la idea es probar el modelo utilizando noticias y/o textos de la \"vida real\". Así veamos cómo funcionaría el modelo en caso de que lo usasemos para una nueva aplicación."
      ],
      "metadata": {
        "id": "aH8JCHRcdzzS"
      }
    },
    {
      "cell_type": "code",
      "metadata": {
        "id": "lVjyt1ljq06Q",
        "colab": {
          "base_uri": "https://localhost:8080/"
        },
        "outputId": "82e08a57-fc3e-4746-815b-569e9783366b"
      },
      "source": [
        "text =\"\"\"\n",
        "The US has \"passed the peak\" on new coronavirus cases, President Donald Trump said and predicted that some states would reopen this month.\n",
        "The US has over 637,000 confirmed Covid-19 cases and over 30,826 deaths, the highest for any country in the world.\n",
        "At the daily White House coronavirus briefing on Wednesday, Trump said new guidelines to reopen the country would be announced on Thursday after he speaks to governors.\n",
        "\"We'll be the comeback kids, all of us,\" he said. \"We want to get our country back.\"\n",
        "The Trump administration has previously fixed May 1 as a possible date to reopen the world's largest economy, but the president said some states may be able to return to normalcy earlier than that.\n",
        "\"\"\"\n",
        "\n",
        "prefix = \"summarize: \"\n",
        "\n",
        "preprocess_text = text.strip().replace(\"\\n\",\"\")\n",
        "t5_prepared_text = prefix + preprocess_text\n",
        "print(bold(\"Texto Original:\"))\n",
        "print(textwrap.fill(text, width=70), end='\\n\\n')"
      ],
      "execution_count": 6,
      "outputs": [
        {
          "output_type": "stream",
          "name": "stdout",
          "text": [
            "\u001b[1mTexto Original:\u001b[0m\n",
            " The US has \"passed the peak\" on new coronavirus cases, President\n",
            "Donald Trump said and predicted that some states would reopen this\n",
            "month. The US has over 637,000 confirmed Covid-19 cases and over\n",
            "30,826 deaths, the highest for any country in the world. At the daily\n",
            "White House coronavirus briefing on Wednesday, Trump said new\n",
            "guidelines to reopen the country would be announced on Thursday after\n",
            "he speaks to governors. \"We'll be the comeback kids, all of us,\" he\n",
            "said. \"We want to get our country back.\" The Trump administration has\n",
            "previously fixed May 1 as a possible date to reopen the world's\n",
            "largest economy, but the president said some states may be able to\n",
            "return to normalcy earlier than that.\n",
            "\n"
          ]
        }
      ]
    },
    {
      "cell_type": "code",
      "metadata": {
        "id": "CGzu_horkXDS",
        "colab": {
          "base_uri": "https://localhost:8080/"
        },
        "outputId": "83edcd6a-0c9d-4df5-c91c-27a306add506"
      },
      "source": [
        "NUM_SENTENCES = 5 # number of output summaries\n",
        "NUM_BEAMS = 20 # must be >= NUM_SENTENCES\n",
        "\n",
        "tokenized_text = tokenizer.encode(t5_prepared_text, return_tensors=\"pt\").to(device)\n",
        "\n",
        "# summmarize\n",
        "summary_ids = model.generate(tokenized_text,\n",
        "                             num_beams=NUM_BEAMS,\n",
        "                             no_repeat_ngram_size=2,\n",
        "                             num_return_sequences=NUM_SENTENCES,\n",
        "                             min_length=30,\n",
        "                             max_length=100,\n",
        "                             early_stopping=True).cpu()\n",
        "\n",
        "print(bold(\"Texto resumido: \\n\"))\n",
        "for i, beam_output in enumerate(summary_ids):\n",
        "  output = tokenizer.decode(beam_output, skip_special_tokens=True)\n",
        "  print(bold(f\"Resumen {i}:\"))\n",
        "  print(textwrap.fill(output, width=70), end='\\n\\n')\n",
        "\n",
        "tokenized_text = None # Free GPU memory"
      ],
      "execution_count": 7,
      "outputs": [
        {
          "output_type": "stream",
          "name": "stdout",
          "text": [
            "\u001b[1mTexto resumido: \n",
            "\u001b[0m\n",
            "\u001b[1mResumen 0:\u001b[0m\n",
            "the u.s. has over 637,000 confirmed cases and over 30,826 deaths, the\n",
            "highest for any country in the world. the president says some states\n",
            "may be able to return to normalcy earlier than that.\n",
            "\n",
            "\u001b[1mResumen 1:\u001b[0m\n",
            "the us has over 637,000 confirmed cases and over 30,826 deaths, the\n",
            "highest for any country in the world. the president says some states\n",
            "may be able to return to normalcy earlier than that.\n",
            "\n",
            "\u001b[1mResumen 2:\u001b[0m\n",
            "the u.s. has over 637,000 confirmed cases and over 30,826 deaths, the\n",
            "highest for any country in the world. the president said some states\n",
            "may be able to return to normalcy earlier than that.\n",
            "\n",
            "\u001b[1mResumen 3:\u001b[0m\n",
            "the u.s. has over 637,000 confirmed cases and over 30,826 deaths, the\n",
            "highest for any country in the world. the president says some states\n",
            "may be able to return to normalcy earlier than that. \"we want to get\n",
            "our country back,\" he says.\n",
            "\n",
            "\u001b[1mResumen 4:\u001b[0m\n",
            "the u.s. has over 637,000 confirmed cases and over 30,826 deaths, the\n",
            "highest for any country in the world. the president said some states\n",
            "may be able to return to normalcy earlier than that. \"we want to get\n",
            "our country back,\" he said.\n",
            "\n"
          ]
        }
      ]
    },
    {
      "cell_type": "markdown",
      "metadata": {
        "id": "98e-xDC87eG-"
      },
      "source": [
        "## Actividad 2\n",
        "\n",
        "1. Busque una noticia reciente (en inglés) y genere un resumen abstractivo en base a esta.\n",
        "\n",
        "**Importante:** Preocupese de que el texto no sea tan largo que el procesamiento no quepa en la GPU."
      ]
    },
    {
      "cell_type": "code",
      "metadata": {
        "id": "7zsoiogHdNuN",
        "colab": {
          "base_uri": "https://localhost:8080/"
        },
        "outputId": "a01de16c-aee7-4a91-c8f6-ede92d99d165"
      },
      "source": [
        "my_news = \"\"\"\n",
        "UFC heavyweight champion Jon Jones has announced his return to the Octagon after nearly two years away. Jones will face interim champion Tom Aspinall at UFC 312 this December in Las Vegas. The fight will mark Jones’s first title defense since winning the belt in 2023. During an interview, Jones said he feels “stronger than ever” and is focused on proving he remains the best fighter in the world. Aspinall, meanwhile, believes his speed and youth will be key to defeating Jones. UFC president Dana White called the bout “a massive event for the division” and said fans should expect one of the greatest heavyweight clashes in years.\n",
        "\"\"\"\n",
        "\n",
        "preprocess_text = my_news.strip().replace(\"\\n\",\"\")\n",
        "t5_prepared_Text = \"summarize: \" + preprocess_text\n",
        "print(bold(\"Texto Original:\"))\n",
        "print(textwrap.fill(my_news, width=70), end='\\n\\n')\n",
        "\n",
        "tokenized_text = tokenizer.encode(t5_prepared_Text, return_tensors=\"pt\").to(device)\n",
        "\n",
        "NUM_SENTENCES = 5 # number of output summaries\n",
        "NUM_BEAMS = 20 # must be >= NUM_SENTENCES\n",
        "\n",
        "# summmarize\n",
        "summary_ids = model.generate(tokenized_text,\n",
        "                             num_beams=NUM_BEAMS,\n",
        "                             no_repeat_ngram_size=2,\n",
        "                             num_return_sequences=NUM_SENTENCES,\n",
        "                             min_length=30,\n",
        "                             max_length=100,\n",
        "                             early_stopping=True).cpu()\n",
        "\n",
        "print(bold(\"Texto resumido: \\n\"))\n",
        "for i, beam_output in enumerate(summary_ids):\n",
        "  output = tokenizer.decode(beam_output, skip_special_tokens=True)\n",
        "  print(bold(f\"Resumen {i}:\"))\n",
        "  print(textwrap.fill(output, width=70), end='\\n\\n')\n",
        "\n",
        "tokenized_text = None # Free GPU memory"
      ],
      "execution_count": 8,
      "outputs": [
        {
          "output_type": "stream",
          "name": "stdout",
          "text": [
            "\u001b[1mTexto Original:\u001b[0m\n",
            " UFC heavyweight champion Jon Jones has announced his return to the\n",
            "Octagon after nearly two years away. Jones will face interim champion\n",
            "Tom Aspinall at UFC 312 this December in Las Vegas. The fight will\n",
            "mark Jones’s first title defense since winning the belt in 2023.\n",
            "During an interview, Jones said he feels “stronger than ever” and is\n",
            "focused on proving he remains the best fighter in the world. Aspinall,\n",
            "meanwhile, believes his speed and youth will be key to defeating\n",
            "Jones. UFC president Dana White called the bout “a massive event for\n",
            "the division” and said fans should expect one of the greatest\n",
            "heavyweight clashes in years.\n",
            "\n",
            "\u001b[1mTexto resumido: \n",
            "\u001b[0m\n",
            "\u001b[1mResumen 0:\u001b[0m\n",
            "the fight will mark Jones’s first title defense since winning the belt\n",
            "in 2023. interim champion Tom Aspinall believes his speed and youth\n",
            "will be key to defeating Jones.\n",
            "\n",
            "\u001b[1mResumen 1:\u001b[0m\n",
            "the bout will mark Jones’s first title defense since winning the belt\n",
            "in 2023. interim champion Tom Aspinall believes his speed and youth\n",
            "will be key to defeating Jones.\n",
            "\n",
            "\u001b[1mResumen 2:\u001b[0m\n",
            "the fight will mark Jones’s first title defense since winning the belt\n",
            "in 2023. interim champion Tom Aspinall believes his speed and youth\n",
            "will be key to defeating Jones. uFC president david white called the\n",
            "bout a massive event for the division.\n",
            "\n",
            "\u001b[1mResumen 3:\u001b[0m\n",
            "the fight will mark Jones’ first title defense since winning the belt\n",
            "in 2023. interim champion Tom Aspinall believes his speed and youth\n",
            "will be key to defeating Jones.\n",
            "\n",
            "\u001b[1mResumen 4:\u001b[0m\n",
            "the fight will mark Jones’s first title defense since winning the belt\n",
            "in 2023. aspinall believes his speed and youth will be key to\n",
            "defeating Jones.\n",
            "\n"
          ]
        }
      ]
    },
    {
      "cell_type": "markdown",
      "metadata": {
        "id": "H39SGvn08XOu"
      },
      "source": [
        "2. En base a la noticia anterior y los candidatos a resumenes generados, conteste las siguientes preguntas."
      ]
    },
    {
      "cell_type": "code",
      "metadata": {
        "cellView": "form",
        "id": "FD5zUkj3Bq8F"
      },
      "source": [
        "#@title ¿Con cuál de los candidatos generados se quedaría como resumen final? Justifica brevemente.\n",
        "R = \"Me quedaría con el Resumen 2, es mas completo e incluye la información central (la primera defensa del título de Jones y la confianza de Aspinall en vencerlo), además de un elemento adicional importante para el contexto (Declaración de Dana White), lo que da mas sentido general de la noticia.\" #@param {type:\"string\"}\n"
      ],
      "execution_count": null,
      "outputs": []
    },
    {
      "cell_type": "code",
      "metadata": {
        "cellView": "form",
        "id": "Dj97S14CBq8G"
      },
      "source": [
        "#@title De los mecanismos vistos en clases nombre **uno** para aumentar la diversidad de los candidatos generados por el modelo.\n",
        "R = \"Elegir las frases que maximizan la métrica ROUGE respecto al resumen gold standard, ya que indica cuáles oraciones representan mejor el contenido esencial del texto original.\" #@param {type:\"string\"}\n"
      ],
      "execution_count": null,
      "outputs": []
    },
    {
      "cell_type": "markdown",
      "metadata": {
        "id": "VT_oP5DV_j7m"
      },
      "source": [
        "3. Elija dos o tres párrafos de un libro a su elección (en inglés), y genere un resumen en base este utilizando el código a continuación.\n",
        "\n",
        "**Importante:** Preocupese de que el texto no sea tan largo que el procesamiento no quepa en la GPU."
      ]
    },
    {
      "cell_type": "code",
      "metadata": {
        "id": "l0O6dNrw_kMn"
      },
      "source": [
        "# other_text =\"\"\"\n",
        "# \"\"\"\n",
        "\n",
        "# preprocess_text = other_text.strip().replace(\"\\n\",\"\")\n",
        "# t5_prepared_Text = \"summarize: \" + preprocess_text\n",
        "# print(bold(\"Texto Original:\"))\n",
        "# print(textwrap.fill(other_text, width=70), end='\\n\\n')\n",
        "\n",
        "# tokenized_text = tokenizer.encode(t5_prepared_Text, return_tensors=\"pt\").to(device)\n",
        "\n",
        "# NUM_SENTENCES = 5 # number of output summaries\n",
        "# NUM_BEAMS = 20 # must be >= NUM_SENTENCES\n",
        "\n",
        "# # summmarize\n",
        "# summary_ids = model.generate(tokenized_text,\n",
        "#                              num_beams=NUM_BEAMS,\n",
        "#                              no_repeat_ngram_size=2,\n",
        "#                              num_return_sequences=NUM_SENTENCES,\n",
        "#                              min_length=30,\n",
        "#                              max_length=100,\n",
        "#                              early_stopping=True).cpu()\n",
        "\n",
        "# print(bold(\"Texto resumido: \\n\"))\n",
        "# for i, beam_output in enumerate(summary_ids):\n",
        "#   output = tokenizer.decode(beam_output, skip_special_tokens=True)\n",
        "#   print(bold(f\"Resumen {i}:\"))\n",
        "#   print(textwrap.fill(output, width=70), end='\\n\\n')\n",
        "\n",
        "# tokenized_text = None # Free GPU memory"
      ],
      "execution_count": null,
      "outputs": []
    },
    {
      "cell_type": "markdown",
      "metadata": {
        "id": "UhOpv2QtAyho"
      },
      "source": [
        "Responda las siguientes preguntas en base al texto elegido y los resumenes generados para este."
      ]
    },
    {
      "cell_type": "code",
      "metadata": {
        "cellView": "form",
        "id": "cpTIsBDPB5g4"
      },
      "source": [
        "#@title Indique el libro que eligió.\n",
        "R = \"\" #@param {type:\"string\"}\n"
      ],
      "execution_count": null,
      "outputs": []
    },
    {
      "cell_type": "code",
      "metadata": {
        "cellView": "form",
        "id": "1z7EFONFB5g5"
      },
      "source": [
        "#@title ¿Con cuál de los candidatos generados se quedaría como resumen final?\n",
        "R = \"\" #@param {type:\"string\"}\n"
      ],
      "execution_count": null,
      "outputs": []
    },
    {
      "cell_type": "code",
      "metadata": {
        "cellView": "form",
        "id": "qRC3MY5AB5g5"
      },
      "source": [
        "#@title ¿Cómo se compara la calidad del resumen en comparación al obtenido utilizando una noticia?\n",
        "R = \"\" #@param {type:\"string\"}\n"
      ],
      "execution_count": null,
      "outputs": []
    },
    {
      "cell_type": "code",
      "metadata": {
        "cellView": "form",
        "id": "oJvJTVtrB5g5"
      },
      "source": [
        "#@title Proponga **una** medida para mejorar la calidad del resumen obtenido.\n",
        "R = \"\" #@param {type:\"string\"}\n"
      ],
      "execution_count": null,
      "outputs": []
    },
    {
      "cell_type": "markdown",
      "source": [
        "## Actividad 3 - Parámetros de Decodificación\n",
        "\n",
        "Exploremos ahora cómo distintos parámetros de decodificación afectan la generación de texto del modelo. Utilizaremos la misma noticia de la actividad anterior para esto, de manera de entender mejor los efectos de cada uno.\n",
        "\n",
        "Como vimos en clase veremos el efecto de modificar los siguientes parámetros del método `generate` del modelo:\n",
        "- Número de 'rayos' de beam search, `num_beams`.\n",
        "- Samplear (en vez de decodificación greedy), `do_sample`.\n",
        "- Hacer nucleus sample, `top_p`.\n",
        "- Temperatura, `temperature`.\n",
        "\n",
        "**Actividad:** Despues de cada parámetro de modificación analice brevemente que cambios observa entre ambos ejemplos generados."
      ],
      "metadata": {
        "id": "Qi3RQ-OiX85A"
      }
    },
    {
      "cell_type": "markdown",
      "source": [
        "Veamos nuevamente la noticia que estamos utilizando, y generemos resumenes alterando un parámetro a la vez. Seguiremos mostrando 5 resultados de manera de ver la diferencia entre ellos."
      ],
      "metadata": {
        "id": "Ge79nTKPZ4SW"
      }
    },
    {
      "cell_type": "code",
      "source": [
        "text =\"\"\"\n",
        "The US has \"passed the peak\" on new coronavirus cases, President Donald Trump said and predicted that some states would reopen this month.\n",
        "The US has over 637,000 confirmed Covid-19 cases and over 30,826 deaths, the highest for any country in the world.\n",
        "At the daily White House coronavirus briefing on Wednesday, Trump said new guidelines to reopen the country would be announced on Thursday after he speaks to governors.\n",
        "\"We'll be the comeback kids, all of us,\" he said. \"We want to get our country back.\"\n",
        "The Trump administration has previously fixed May 1 as a possible date to reopen the world's largest economy, but the president said some states may be able to return to normalcy earlier than that.\n",
        "\"\"\"\n",
        "\n",
        "prefix = \"summarize: \"\n",
        "\n",
        "preprocess_text = text.strip().replace(\"\\n\",\"\")\n",
        "t5_prepared_text = prefix + preprocess_text\n",
        "print(bold(\"Texto Original:\"))\n",
        "print(textwrap.fill(text, width=70), end='\\n\\n')\n",
        "\n",
        "tokenized_text = tokenizer.encode(t5_prepared_text, return_tensors=\"pt\").to(device)"
      ],
      "metadata": {
        "id": "9RbbRNCsYyPj"
      },
      "execution_count": null,
      "outputs": []
    },
    {
      "cell_type": "markdown",
      "source": [
        "### Número de Rayos de Beam Search\n",
        "\n",
        "Para esto modificamos el parámetro `num_beams`."
      ],
      "metadata": {
        "id": "9w4_w2LwaT_Y"
      }
    },
    {
      "cell_type": "markdown",
      "source": [
        "#### `num_beams=5`"
      ],
      "metadata": {
        "id": "KzJDRPBSakn3"
      }
    },
    {
      "cell_type": "code",
      "source": [
        "summary_ids = model.generate(tokenized_text,\n",
        "                             num_beams=5,\n",
        "                             no_repeat_ngram_size=2,\n",
        "                             num_return_sequences=NUM_SENTENCES,\n",
        "                             min_length=30,\n",
        "                             max_length=100,\n",
        "                             early_stopping=True).cpu()\n",
        "\n",
        "print(bold(\"Texto resumido: \\n\"))\n",
        "for i, beam_output in enumerate(summary_ids):\n",
        "  output = tokenizer.decode(beam_output, skip_special_tokens=True)\n",
        "  print(bold(f\"Resumen {i}:\"))\n",
        "  print(textwrap.fill(output, width=70), end='\\n\\n')"
      ],
      "metadata": {
        "id": "AfRdMAZoZ2NM"
      },
      "execution_count": null,
      "outputs": []
    },
    {
      "cell_type": "markdown",
      "source": [
        "#### `num_beams=20`"
      ],
      "metadata": {
        "id": "nUj8fcVZar0Y"
      }
    },
    {
      "cell_type": "code",
      "source": [
        "summary_ids = model.generate(tokenized_text,\n",
        "                             num_beams=20,\n",
        "                             no_repeat_ngram_size=2,\n",
        "                             num_return_sequences=NUM_SENTENCES,\n",
        "                             min_length=30,\n",
        "                             max_length=100,\n",
        "                             early_stopping=True).cpu()\n",
        "\n",
        "print(bold(\"Texto resumido: \\n\"))\n",
        "for i, beam_output in enumerate(summary_ids):\n",
        "  output = tokenizer.decode(beam_output, skip_special_tokens=True)\n",
        "  print(bold(f\"Resumen {i}:\"))\n",
        "  print(textwrap.fill(output, width=70), end='\\n\\n')"
      ],
      "metadata": {
        "id": "B0VqeYOPar0Y"
      },
      "execution_count": null,
      "outputs": []
    },
    {
      "cell_type": "code",
      "source": [
        "#@title Analice brevemente la diferencia entre ambos textos generados.\n",
        "R = \"\" #@param {type:\"string\"}"
      ],
      "metadata": {
        "cellView": "form",
        "id": "iRuAXBaRZ2QO"
      },
      "execution_count": null,
      "outputs": []
    },
    {
      "cell_type": "markdown",
      "source": [
        "\n",
        "### Utilicemos aleatoriedad para samplear los resumenes\n",
        "\n",
        "Para esto modificamos el parámetro `do_sample`. Esto significa que en cada paso de deocidificación no nos quedaremos solamente con el token más probable, si no que eligiremos uno aleatoriamente dependiendo de las probabilidades de salida del modelo. Para los siguientes parámetros mantrendremos esta propiedad."
      ],
      "metadata": {
        "id": "Rko7cGwIblFi"
      }
    },
    {
      "cell_type": "markdown",
      "source": [
        "#### `do_sample=False`"
      ],
      "metadata": {
        "id": "ge4ySyZobdzx"
      }
    },
    {
      "cell_type": "code",
      "source": [
        "summary_ids = model.generate(tokenized_text,\n",
        "                             do_sample=False,\n",
        "                             num_beams=5,\n",
        "                             no_repeat_ngram_size=2,\n",
        "                             num_return_sequences=NUM_SENTENCES,\n",
        "                             min_length=30,\n",
        "                             max_length=100,\n",
        "                             early_stopping=True).cpu()\n",
        "\n",
        "print(bold(\"Texto resumido: \\n\"))\n",
        "for i, beam_output in enumerate(summary_ids):\n",
        "  output = tokenizer.decode(beam_output, skip_special_tokens=True)\n",
        "  print(bold(f\"Resumen {i}:\"))\n",
        "  print(textwrap.fill(output, width=70), end='\\n\\n')"
      ],
      "metadata": {
        "id": "igXQwrG8bdzy"
      },
      "execution_count": null,
      "outputs": []
    },
    {
      "cell_type": "markdown",
      "source": [
        "#### `do_sample=True`"
      ],
      "metadata": {
        "id": "C918sXK8bdzy"
      }
    },
    {
      "cell_type": "code",
      "source": [
        "summary_ids = model.generate(tokenized_text,\n",
        "                             do_sample=True,\n",
        "                             num_beams=5,\n",
        "                             no_repeat_ngram_size=2,\n",
        "                             num_return_sequences=NUM_SENTENCES,\n",
        "                             min_length=30,\n",
        "                             max_length=100,\n",
        "                             early_stopping=True).cpu()\n",
        "\n",
        "print(bold(\"Texto resumido: \\n\"))\n",
        "for i, beam_output in enumerate(summary_ids):\n",
        "  output = tokenizer.decode(beam_output, skip_special_tokens=True)\n",
        "  print(bold(f\"Resumen {i}:\"))\n",
        "  print(textwrap.fill(output, width=70), end='\\n\\n')"
      ],
      "metadata": {
        "id": "f28bIrJ4bdzy"
      },
      "execution_count": null,
      "outputs": []
    },
    {
      "cell_type": "code",
      "source": [
        "#@title Analice brevemente la diferencia entre ambos textos generados.\n",
        "R = \"\" #@param {type:\"string\"}"
      ],
      "metadata": {
        "cellView": "form",
        "id": "YfeuJEqTbaIw"
      },
      "execution_count": null,
      "outputs": []
    },
    {
      "cell_type": "markdown",
      "source": [
        "### Nucleus Sample\n",
        "\n",
        "Para esto modificamos el parámetro `top_p`. Este parámetro modifica la cantidad de elementos dentro de los que samplearemos, así no considerar toda la distribución. Debe cumplir `0 <= top_p <= 1`."
      ],
      "metadata": {
        "id": "zwBNqkcPcvzb"
      }
    },
    {
      "cell_type": "markdown",
      "source": [
        "#### `top_p=0.95`"
      ],
      "metadata": {
        "id": "bW__UwGqcvzc"
      }
    },
    {
      "cell_type": "code",
      "source": [
        "summary_ids = model.generate(tokenized_text,\n",
        "                             do_sample=True,\n",
        "                             top_p=0.95,\n",
        "                             num_beams=5,\n",
        "                             no_repeat_ngram_size=2,\n",
        "                             num_return_sequences=NUM_SENTENCES,\n",
        "                             min_length=30,\n",
        "                             max_length=100,\n",
        "                             early_stopping=True).cpu()\n",
        "\n",
        "print(bold(\"Texto resumido: \\n\"))\n",
        "for i, beam_output in enumerate(summary_ids):\n",
        "  output = tokenizer.decode(beam_output, skip_special_tokens=True)\n",
        "  print(bold(f\"Resumen {i}:\"))\n",
        "  print(textwrap.fill(output, width=70), end='\\n\\n')"
      ],
      "metadata": {
        "id": "AYrzlzYVcvzc"
      },
      "execution_count": null,
      "outputs": []
    },
    {
      "cell_type": "markdown",
      "source": [
        "#### `top_p=0.9`"
      ],
      "metadata": {
        "id": "3JRdMHLBcvzc"
      }
    },
    {
      "cell_type": "code",
      "source": [
        "summary_ids = model.generate(tokenized_text,\n",
        "                             do_sample=True,\n",
        "                             top_p=0.9,\n",
        "                             num_beams=20,\n",
        "                             no_repeat_ngram_size=2,\n",
        "                             num_return_sequences=NUM_SENTENCES,\n",
        "                             min_length=30,\n",
        "                             max_length=100,\n",
        "                             early_stopping=True).cpu()\n",
        "\n",
        "print(bold(\"Texto resumido: \\n\"))\n",
        "for i, beam_output in enumerate(summary_ids):\n",
        "  output = tokenizer.decode(beam_output, skip_special_tokens=True)\n",
        "  print(bold(f\"Resumen {i}:\"))\n",
        "  print(textwrap.fill(output, width=70), end='\\n\\n')"
      ],
      "metadata": {
        "id": "Ba5YIDv3cvzc"
      },
      "execution_count": null,
      "outputs": []
    },
    {
      "cell_type": "code",
      "source": [
        "#@title Analice brevemente la diferencia entre ambos textos generados.\n",
        "R = \"\" #@param {type:\"string\"}"
      ],
      "metadata": {
        "cellView": "form",
        "id": "2cia5kV7baT4"
      },
      "execution_count": null,
      "outputs": []
    },
    {
      "cell_type": "markdown",
      "source": [
        "### Temperatura\n",
        "\n",
        "Para esto modificamos el parámetro `temperature`. Este parámetro modifica la distribución misma de la que samplearemos los tokens. Una temperatura menor a 1 (`temperature < 1`), hará que haya menos variabilidad en la distribución. Mientras que mayor a 1 (`temperature > 1`) hará que haya más variabilidad, por ende sea más diversa."
      ],
      "metadata": {
        "id": "oyQgEBdweQDT"
      }
    },
    {
      "cell_type": "markdown",
      "source": [
        "#### `temperature=0.6`"
      ],
      "metadata": {
        "id": "81ByEZsceQDU"
      }
    },
    {
      "cell_type": "code",
      "source": [
        "summary_ids = model.generate(tokenized_text,\n",
        "                             do_sample=True,\n",
        "                             temperature=0.6,\n",
        "                             num_beams=5,\n",
        "                             no_repeat_ngram_size=2,\n",
        "                             num_return_sequences=NUM_SENTENCES,\n",
        "                             min_length=30,\n",
        "                             max_length=100,\n",
        "                             early_stopping=True).cpu()\n",
        "\n",
        "print(bold(\"Texto resumido: \\n\"))\n",
        "for i, beam_output in enumerate(summary_ids):\n",
        "  output = tokenizer.decode(beam_output, skip_special_tokens=True)\n",
        "  print(bold(f\"Resumen {i}:\"))\n",
        "  print(textwrap.fill(output, width=70), end='\\n\\n')"
      ],
      "metadata": {
        "id": "9tFUaWG0eQDU"
      },
      "execution_count": null,
      "outputs": []
    },
    {
      "cell_type": "markdown",
      "source": [
        "#### `temperature=1.5`"
      ],
      "metadata": {
        "id": "wXQBj5NseQDU"
      }
    },
    {
      "cell_type": "code",
      "source": [
        "summary_ids = model.generate(tokenized_text,\n",
        "                             do_sample=True,\n",
        "                             temperature=1.5,\n",
        "                             num_beams=20,\n",
        "                             no_repeat_ngram_size=2,\n",
        "                             num_return_sequences=NUM_SENTENCES,\n",
        "                             min_length=30,\n",
        "                             max_length=100,\n",
        "                             early_stopping=True).cpu()\n",
        "\n",
        "print(bold(\"Texto resumido: \\n\"))\n",
        "for i, beam_output in enumerate(summary_ids):\n",
        "  output = tokenizer.decode(beam_output, skip_special_tokens=True)\n",
        "  print(bold(f\"Resumen {i}:\"))\n",
        "  print(textwrap.fill(output, width=70), end='\\n\\n')"
      ],
      "metadata": {
        "id": "w9bGPec6eQDU"
      },
      "execution_count": null,
      "outputs": []
    },
    {
      "cell_type": "code",
      "source": [
        "#@title Analice brevemente la diferencia entre ambos textos generados.\n",
        "R = \"\" #@param {type:\"string\"}"
      ],
      "metadata": {
        "cellView": "form",
        "id": "UgobcKoKbae-"
      },
      "execution_count": null,
      "outputs": []
    },
    {
      "cell_type": "code",
      "source": [
        "# @title ¿Cúal fue el cambio de parámetro que pudo notar mayor diversidad?\n",
        "R = \"\" # @param {\"type\":\"string\"}\n"
      ],
      "metadata": {
        "cellView": "form",
        "id": "Phqm8SSGoYCh"
      },
      "execution_count": null,
      "outputs": []
    },
    {
      "cell_type": "code",
      "source": [
        "tokenized_text = None # Free GPU memory"
      ],
      "metadata": {
        "id": "FDU8J3l3Z2TX"
      },
      "execution_count": null,
      "outputs": []
    },
    {
      "cell_type": "markdown",
      "source": [
        "## Evaluemos el Modelo\n",
        "\n",
        "Ya teniendo una mejor idea de las capacidades del modelo T5, evaluemosló cuantitativamente utilizando la métrica ROUGE.\n",
        "\n",
        "Esto nos permitirá tener información más general de como funciona el modelo sobre un set de datos completo.\n",
        "\n",
        "Para esto utilizaremos el set de test del dataset CNN/DailyMail. Utilizaremos la librería `datasets` que también nos provee huggingface para acceder a los datos."
      ],
      "metadata": {
        "id": "w4DjPP9_Z4tC"
      }
    },
    {
      "cell_type": "markdown",
      "source": [
        "### Dataset CNN/DailyMail\n",
        "\n",
        "Primero que todo carguemos los datos de este dataset con la ayuda del paquete `datasets` de huggingface. Para esto utilizamos la función `load_dataset` que nos provee para hacerlo de forma simple."
      ],
      "metadata": {
        "id": "ZXYQYRrafgA7"
      }
    },
    {
      "cell_type": "code",
      "source": [
        "from datasets import load_dataset\n",
        "\n",
        "cnndm = load_dataset(\"abisee/cnn_dailymail\", \"3.0.0\", split=\"test\")"
      ],
      "metadata": {
        "id": "baNQYjhWZ3Lc"
      },
      "execution_count": null,
      "outputs": []
    },
    {
      "cell_type": "markdown",
      "source": [
        "También hagamos un pequeño análizis de los datos. Específicamente nos interesa saber la distribución de los largos de los textos, tanto de los artículos como de los resumenes. Esto nos permitirá setear de mejor manera ls parámetros de evaluación."
      ],
      "metadata": {
        "id": "mcIq96nof36j"
      }
    },
    {
      "cell_type": "code",
      "source": [
        "article_tokenized_len = [len(tokenizer.encode(ex)) for ex in cnndm['article']]\n",
        "summary_tokenized_len = [len(tokenizer.encode(ex)) for ex in cnndm['highlights']]"
      ],
      "metadata": {
        "id": "6zEFnjjqZ3Oh"
      },
      "execution_count": null,
      "outputs": []
    },
    {
      "cell_type": "code",
      "source": [
        "plt.hist(article_tokenized_len, bins=100)\n",
        "plt.vlines(np.percentile(article_tokenized_len, 5), 0, 420, color='green')\n",
        "plt.vlines(np.mean(article_tokenized_len), 0, 420, color='red')\n",
        "plt.vlines(np.percentile(article_tokenized_len, 95), 0, 420, color='green')\n",
        "plt.xlabel('Número de tokens')\n",
        "plt.ylabel('Frecuencia')\n",
        "plt.title('Histograma de Largo de Artículos (Tokens)')\n",
        "plt.show()"
      ],
      "metadata": {
        "id": "zeCcAgG1fvk2"
      },
      "execution_count": null,
      "outputs": []
    },
    {
      "cell_type": "code",
      "source": [
        "plt.hist(summary_tokenized_len, bins=100)\n",
        "plt.vlines(np.percentile(summary_tokenized_len, 5), 0, 2000, color='green')\n",
        "plt.vlines(np.mean(summary_tokenized_len), 0, 2000, color='red')\n",
        "plt.vlines(np.percentile(summary_tokenized_len, 95), 0, 2000, color='green')\n",
        "plt.xlabel('Número de tokens')\n",
        "plt.ylabel('Frecuencia')\n",
        "plt.title('Histograma de Largo de Resumenes (Tokens)')\n",
        "plt.show()"
      ],
      "metadata": {
        "id": "DAjIGP5awhWD"
      },
      "execution_count": null,
      "outputs": []
    },
    {
      "cell_type": "code",
      "source": [
        "print(bold('Largos de Artículos'))\n",
        "print(f'percentil 1:  {np.percentile(article_tokenized_len, 1):5.1f}')\n",
        "print(f'percentil 5:  {np.percentile(article_tokenized_len, 5):5.1f}')\n",
        "print(f'promedio:     {np.mean(article_tokenized_len):5.1f}')\n",
        "print(f'percentil 95: {np.percentile(article_tokenized_len, 95):5.1f}')\n",
        "print(f'percentil 99: {np.percentile(article_tokenized_len, 99):5.1f}')\n",
        "print()\n",
        "print(bold('Largos de Resumenes'))\n",
        "print(f'percentil 1:  {np.percentile(summary_tokenized_len, 1):5.1f}')\n",
        "print(f'percentil 5:  {np.percentile(summary_tokenized_len, 5):5.1f}')\n",
        "print(f'promedio:     {np.mean(summary_tokenized_len):5.1f}')\n",
        "print(f'percentil 95: {np.percentile(summary_tokenized_len, 95):5.1f}')\n",
        "print(f'percentil 99: {np.percentile(summary_tokenized_len, 99):5.1f}')"
      ],
      "metadata": {
        "id": "vyYPXzEXfvns"
      },
      "execution_count": null,
      "outputs": []
    },
    {
      "cell_type": "markdown",
      "source": [
        "### Evaluación\n",
        "\n",
        "Empecemos a desarrollar nuestra evaluación. Utilizando la información de las distribuciones de los resumenes elegimos los mejores parámetros para evaluar en nuestro problema."
      ],
      "metadata": {
        "id": "IK2C_8E_0KYB"
      }
    },
    {
      "cell_type": "code",
      "source": [
        "eval_min_length = 32\n",
        "eval_max_length = 135\n",
        "eval_article_max_length = 768\n",
        "\n",
        "eval_num_beams = 1\n",
        "eval_batch_size = 128"
      ],
      "metadata": {
        "id": "JzsEiDRkyPQP"
      },
      "execution_count": null,
      "outputs": []
    },
    {
      "cell_type": "markdown",
      "source": [
        "También, creamos el objeto que nos ayudará a calcular los valores de ROUGE. Nuevamente utilizaremos un paquete que nos provee huggingface para esto, en este caso se llama `evaluate` y nos provee muchas de las métricas que se utilizan en machine learning."
      ],
      "metadata": {
        "id": "sAjR_uH60fda"
      }
    },
    {
      "cell_type": "code",
      "source": [
        "import evaluate\n",
        "\n",
        "rouge = evaluate.load(\"rouge\")\n",
        "rouge_types = ['rouge1', 'rouge2', 'rougeL']\n",
        "\n",
        "def compute_metrics(eval_pred):\n",
        "    predictions, labels = eval_pred\n",
        "    decoded_preds = tokenizer.batch_decode(predictions, skip_special_tokens=True)\n",
        "    labels = np.where(labels != -100, labels, tokenizer.pad_token_id)\n",
        "    decoded_labels = tokenizer.batch_decode(labels, skip_special_tokens=True)\n",
        "\n",
        "    result = rouge.compute(predictions=decoded_preds, references=decoded_labels,\n",
        "                           rouge_types=rouge_types, use_stemmer=True)\n",
        "\n",
        "    prediction_lens = [np.count_nonzero(pred != tokenizer.pad_token_id) for pred in predictions]\n",
        "    result[\"gen_len\"] = np.mean(prediction_lens)\n",
        "\n",
        "    return {k: round(v, 4) for k, v in result.items()}\n",
        "\n",
        "def print_rouges(pred, tgt):\n",
        "    labels = tokenizer(text_target=[random_summary], max_length=eval_max_length, truncation=True)\n",
        "    scores = compute_metrics((pred, tgt))\n",
        "    for score_type in rouge_types:\n",
        "        score = scores[score_type]\n",
        "        print(f'{score_type:6.6}: {score:.4f}')"
      ],
      "metadata": {
        "id": "zzcUXwUYzRpv"
      },
      "execution_count": null,
      "outputs": []
    },
    {
      "cell_type": "markdown",
      "source": [
        "### Inspección de Ejemplo\n",
        "\n",
        "Inspeccionemos un ejemplo del dataset en el que vamos a evaluar y calculemos el ROUGE score sobre este. Nos permitirá entender mejor el tipo de ejemplos que existen en el dataset y hacernos una idea de como funciona el ROUGE score de manera más específica."
      ],
      "metadata": {
        "id": "y8yn_aVZ1EaM"
      }
    },
    {
      "cell_type": "code",
      "source": [
        "dataset_len = len(cnndm)\n",
        "rand_idx = random.randint(0, dataset_len)\n",
        "random_article = cnndm['article'][rand_idx]\n",
        "random_summary = cnndm['highlights'][rand_idx]"
      ],
      "metadata": {
        "id": "BhQAUDXCzRvx"
      },
      "execution_count": null,
      "outputs": []
    },
    {
      "cell_type": "code",
      "source": [
        "prefix = \"summarize: \"\n",
        "preprocess_text = random_article.strip().replace(\"\\n\",\"\")\n",
        "t5_prepared_text = prefix + preprocess_text\n",
        "tokenized_text = tokenizer.encode(t5_prepared_text, return_tensors=\"pt\").to(device)\n",
        "target = tokenizer(text_target=[random_summary], max_length=eval_max_length, truncation=True)['input_ids']\n",
        "\n",
        "summary_ids = model.generate(tokenized_text,\n",
        "                             num_beams=20,\n",
        "                             no_repeat_ngram_size=2,\n",
        "                             num_return_sequences=1,\n",
        "                             min_length=eval_min_length,\n",
        "                             max_length=eval_max_length,\n",
        "                             early_stopping=True).cpu()\n",
        "output = tokenizer.decode(summary_ids[0], skip_special_tokens=True)\n",
        "\n",
        "# pred = summary_ids.cpu()\n",
        "tokenized_text = None # Free GPU memory"
      ],
      "metadata": {
        "id": "z8M_l5x96-na"
      },
      "execution_count": null,
      "outputs": []
    },
    {
      "cell_type": "code",
      "source": [
        "print(bold(\"Texto Original:\"))\n",
        "print(textwrap.fill(random_article, width=80), end='\\n\\n')\n",
        "print(bold(\"Resumen Gold Standard:\"))\n",
        "print(textwrap.fill(random_summary, width=80), end='\\n\\n')\n",
        "print(bold(\"Resumen Generado:\"))\n",
        "print(textwrap.fill(output, width=80), end='\\n\\n')\n",
        "print(bold(\"ROUGE Scores:\"))\n",
        "print_rouges(summary_ids, target)"
      ],
      "metadata": {
        "id": "kuSZv5lG66HF"
      },
      "execution_count": null,
      "outputs": []
    },
    {
      "cell_type": "markdown",
      "source": [
        "### Evaluación Completa sobre CNN/DailyMail\n",
        "\n",
        "Finalemente efectuemos la evaluación sobre todo el set de test.\n",
        "\n",
        "Dado que el dataset original contiene texto, es necesario primero tokenizar ese texto de manera de tener valores numéricos que nuestro modelo pueda procesar. Para eso lo primero es preprocesar el dataset, generamos una función con este fin: `preprocess_function`."
      ],
      "metadata": {
        "id": "uuUxn7Jcguw9"
      }
    },
    {
      "cell_type": "code",
      "source": [
        "def preprocess_function(examples):\n",
        "    inputs = [prefix + doc.strip().replace(\"\\n\",\"\") for doc in examples[\"article\"]]\n",
        "    model_inputs = tokenizer(\n",
        "        inputs, max_length=eval_article_max_length, truncation=True)\n",
        "\n",
        "    labels = tokenizer(\n",
        "        text_target=examples[\"highlights\"], max_length=eval_max_length, truncation=True)\n",
        "\n",
        "    model_inputs[\"labels\"] = labels[\"input_ids\"]\n",
        "    return model_inputs"
      ],
      "metadata": {
        "id": "t5xSKzN86peL"
      },
      "execution_count": null,
      "outputs": []
    },
    {
      "cell_type": "markdown",
      "source": [
        "Efectuamos el preprocesamiento y creamos un `DataLoader` que nos permita iterar de forma eficientemente sobre los datos."
      ],
      "metadata": {
        "id": "0AIoo6Fkh1Nj"
      }
    },
    {
      "cell_type": "code",
      "source": [
        "from transformers import DataCollatorForSeq2Seq\n",
        "import multiprocessing\n",
        "\n",
        "cores = multiprocessing.cpu_count() # Count the number of cores in a computer\n",
        "\n",
        "tokenized_cnndm = cnndm.map(preprocess_function, batched=True)\n",
        "tokenized_cnndm = tokenized_cnndm.remove_columns(cnndm.column_names)\n",
        "\n",
        "data_collator = DataCollatorForSeq2Seq(tokenizer=tokenizer, model=t5_model)\n",
        "\n",
        "loader = DataLoader(tokenized_cnndm, batch_size=eval_batch_size,\n",
        "                    collate_fn=data_collator, shuffle=True, num_workers=cores,\n",
        "                    pin_memory=True)"
      ],
      "metadata": {
        "id": "m3CZCHqg9F9l"
      },
      "execution_count": null,
      "outputs": []
    },
    {
      "cell_type": "markdown",
      "source": [
        "Finalmente haremos la evaluación."
      ],
      "metadata": {
        "id": "5V68KcjjiCI1"
      }
    },
    {
      "cell_type": "code",
      "source": [
        "model.eval()\n",
        "\n",
        "all_predictions = []\n",
        "all_labels = []\n",
        "\n",
        "for batch in tqdm(loader):\n",
        "    inputs = {k: v.to(device) for k, v in batch.items() if k != 'labels'}\n",
        "    labels = batch['labels'].to(device)\n",
        "\n",
        "    with torch.no_grad():\n",
        "        generated_tokens = model.generate(\n",
        "            **inputs,\n",
        "            max_length=eval_max_length,\n",
        "            num_beams=eval_num_beams,\n",
        "            no_repeat_ngram_size=2,\n",
        "            early_stopping=True,\n",
        "        )\n",
        "\n",
        "    all_predictions.extend(generated_tokens.cpu().numpy())\n",
        "    all_labels.extend(labels.cpu().numpy())\n",
        "\n",
        "all_predictions = np.stack(all_predictions)\n",
        "all_labels = np.stack(all_labels)\n",
        "\n",
        "rouge_results = compute_metrics((all_predictions, all_labels))"
      ],
      "metadata": {
        "id": "8uAx1hjtLkDS"
      },
      "execution_count": null,
      "outputs": []
    },
    {
      "cell_type": "markdown",
      "source": [
        "E imprimimos el resultado de los distintos scores de ROUGE en nuestro dataset:"
      ],
      "metadata": {
        "id": "Ec0tZoXSiH4O"
      }
    },
    {
      "cell_type": "code",
      "source": [
        "print(bold(\"ROUGE Scores promedio:\"))\n",
        "for score_type in rouge_types:\n",
        "    score = rouge_results[score_type]\n",
        "    print(f'{score_type:6.6}: {score:.4f}')"
      ],
      "metadata": {
        "id": "UgNHq5ZzfvrY"
      },
      "execution_count": null,
      "outputs": []
    },
    {
      "cell_type": "markdown",
      "source": [
        "## Actividad 4\n",
        "\n",
        "En el trabajo en que propusieron y probaron T5 ellos reportan los siguientes resultados en este dataset:\n",
        "\n",
        "**ROUGE-1 :**   41.12\n",
        "\n",
        "**ROUGE-2 :**   19.56\n",
        "\n",
        "**ROUGE-L :**   38.35"
      ],
      "metadata": {
        "id": "LhPF_wGTiS32"
      }
    },
    {
      "cell_type": "code",
      "source": [
        "# @title ¿Por qué nuestro model no alcanzó el mismo rendimento de ROUGE que el reportado en el trabajo original? De *dos razones* concretas.\n",
        "R1 = \"\" # @param {\"type\":\"string\"}\n",
        "R2= \"\" # @param {\"type\":\"string\"}\n"
      ],
      "metadata": {
        "cellView": "form",
        "id": "hEE8IBfEiTJn"
      },
      "execution_count": null,
      "outputs": []
    },
    {
      "cell_type": "code",
      "source": [
        "# @title Proponga una mejora a lo que hicimos en el laboratorio para mejorar el rendimiento. Esta no debe considerar modificar ninguno de los parámetros que hemos utilzado acá. Responda brevemente:\n",
        "M = \"\" # @param {\"type\":\"string\"}"
      ],
      "metadata": {
        "cellView": "form",
        "id": "FBUar-5ZiiI7"
      },
      "execution_count": null,
      "outputs": []
    }
  ]
}